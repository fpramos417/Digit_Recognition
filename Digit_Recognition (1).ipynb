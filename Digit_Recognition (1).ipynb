{
  "cells": [
    {
      "cell_type": "code",
      "execution_count": 237,
      "metadata": {
        "colab": {
          "base_uri": "https://localhost:8080/"
        },
        "id": "03lDyQUuef7z",
        "outputId": "fed8588f-060a-4a24-cf45-a8bc98c7a4a6"
      },
      "outputs": [
        {
          "name": "stdout",
          "output_type": "stream",
          "text": [
            "Drive already mounted at /content/drive; to attempt to forcibly remount, call drive.mount(\"/content/drive\", force_remount=True).\n"
          ]
        }
      ],
      "source": [
        "# Mount Google Drive storage\n",
        "from google.colab import drive\n",
        "drive.mount('/content/drive')"
      ]
    },
    {
      "cell_type": "markdown",
      "metadata": {
        "id": "C8U3DUa3eNsT"
      },
      "source": [
        "## **Importing the necessary libraries**"
      ]
    },
    {
      "cell_type": "code",
      "execution_count": 238,
      "metadata": {
        "id": "-dVzeuF3eQx1"
      },
      "outputs": [],
      "source": [
        "import numpy as np\n",
        "import matplotlib.pyplot as plt\n",
        "import seaborn as sns\n",
        "import math\n",
        "\n",
        "import tensorflow as tf\n",
        "\n",
        "# Keras Sequential Model\n",
        "from tensorflow.keras.models import Sequential\n",
        "\n",
        "# Importing all the different layers and optimizers\n",
        "from tensorflow.keras.layers import Dense, Dropout, Flatten, Conv2D, MaxPooling2D, BatchNormalization, Activation, LeakyReLU\n",
        "from tensorflow.keras.optimizers import Adam,SGD\n",
        "\n",
        "# The below code can be used to ignore the warnings that may occur due to deprecations\n",
        "import warnings\n",
        "warnings.filterwarnings(\"ignore\")"
      ]
    },
    {
      "cell_type": "code",
      "execution_count": 239,
      "metadata": {
        "colab": {
          "base_uri": "https://localhost:8080/"
        },
        "id": "W5as47YxyJVk",
        "outputId": "220584cf-c041-42f1-da73-9652d880596d"
      },
      "outputs": [
        {
          "name": "stdout",
          "output_type": "stream",
          "text": [
            "2.12.0\n"
          ]
        }
      ],
      "source": [
        "# Check version of tensorflow to ensure compatibility\n",
        "print(tf.__version__)"
      ]
    },
    {
      "cell_type": "markdown",
      "metadata": {
        "id": "8lsux2ZwyTTR"
      },
      "source": [
        "## **Load the dataset**\n",
        "\n",
        "- Load the dataset that is available as a .h5 file.\n",
        "- Split the data into the train and the test dataset."
      ]
    },
    {
      "cell_type": "code",
      "execution_count": 240,
      "metadata": {
        "id": "dWc6fj-hJuE3"
      },
      "outputs": [],
      "source": [
        "# .h5 file stands for Hierarchical Data Format version 5\n",
        "# .h5 store trained models in a serialized format\n",
        "# .h5 file provides a hierarchical structure, which allows datasets to be organized in a tree-like structure\n",
        "import h5py"
      ]
    },
    {
      "cell_type": "code",
      "execution_count": 241,
      "metadata": {
        "id": "2OeQ4U_VJPhk"
      },
      "outputs": [],
      "source": [
        "# Write path of .h5 file stored in Google Drive\n",
        "path = '/content/drive/MyDrive/Colab_Notebooks/SVHN_single_grey1.h5'\n",
        "\n",
        "# Open the .h5 file\n",
        "file = h5py.File(path, 'r')"
      ]
    },
    {
      "cell_type": "code",
      "execution_count": 242,
      "metadata": {
        "colab": {
          "base_uri": "https://localhost:8080/"
        },
        "id": "6DyAiocf1JOb",
        "outputId": "ea2b7933-5db9-471b-f74b-b253cd14644b"
      },
      "outputs": [
        {
          "name": "stdout",
          "output_type": "stream",
          "text": [
            "X_test\n",
            "X_train\n",
            "X_val\n",
            "y_test\n",
            "y_train\n",
            "y_val\n"
          ]
        }
      ],
      "source": [
        "# Explore .h5 file\n",
        "for k_name in file.keys():\n",
        "  print(k_name)"
      ]
    },
    {
      "cell_type": "markdown",
      "metadata": {
        "id": "vqwy3x4O5D5T"
      },
      "source": [
        "I see that there are six groups of data. I notice that there are already data groups for train and test."
      ]
    },
    {
      "cell_type": "code",
      "execution_count": 243,
      "metadata": {
        "colab": {
          "base_uri": "https://localhost:8080/"
        },
        "id": "o_7iZjZV1Q4M",
        "outputId": "55ef2fc9-66f6-4ddd-8434-b1288928ea9c"
      },
      "outputs": [
        {
          "name": "stdout",
          "output_type": "stream",
          "text": [
            "<HDF5 dataset \"X_train\": shape (42000, 32, 32), type \"<f4\">\n"
          ]
        }
      ],
      "source": [
        "# Explore X_train structure\n",
        "data_Xtrain = file['X_train']\n",
        "print(data_Xtrain)"
      ]
    },
    {
      "cell_type": "markdown",
      "metadata": {
        "id": "z-JtbX4r3DlG"
      },
      "source": [
        "I see the shape of X_train is a multi-dimensional array with three dimensions. 42000 is the number of images in the dataset, 32 is the number of rows in each image, 32 is the number of columns in each image. This is 32x32 pixels.\n",
        "\n",
        "Additionally, I see that Xtrain is f4, which is a 32-bit floating point number, also known as single-precision floating-point number.\n",
        "The letter f in f4 means \"floating point\", and the 4 is the number of bytes used to store each floating point.\n",
        "f4 data type corresponds to numpy.float32"
      ]
    },
    {
      "cell_type": "code",
      "execution_count": 244,
      "metadata": {
        "colab": {
          "base_uri": "https://localhost:8080/"
        },
        "id": "9vo914R01_-7",
        "outputId": "403e8d1a-8ac1-49eb-89eb-9bf2d5b0c05f"
      },
      "outputs": [
        {
          "name": "stdout",
          "output_type": "stream",
          "text": [
            "[[[ 33.0704  30.2601  26.852  ...  71.4471  58.2204  42.9939]\n",
            "  [ 25.2283  25.5533  29.9765 ... 113.0209 103.3639  84.2949]\n",
            "  [ 26.2775  22.6137  40.4763 ... 113.3028 121.775  115.4228]\n",
            "  ...\n",
            "  [ 28.5502  36.212   45.0801 ...  24.1359  25.0927  26.0603]\n",
            "  [ 38.4352  26.4733  23.2717 ...  28.1094  29.4683  30.0661]\n",
            "  [ 50.2984  26.0773  24.0389 ...  49.6682  50.853   53.0377]]\n",
            "\n",
            " [[ 86.9591  87.0685  88.3735 ...  91.8014  89.7477  92.5302]\n",
            "  [ 86.688   86.9114  87.4337 ...  90.7306  87.204   88.5629]\n",
            "  [ 85.9654  85.8145  85.9239 ...  63.8626  59.8199  54.8805]\n",
            "  ...\n",
            "  [ 90.2236  91.0448  93.4637 ...  55.3535  48.5822  44.0557]\n",
            "  [ 90.6427  90.4039  90.937  ...  78.2696  77.4977  74.27  ]\n",
            "  [ 88.0236  88.1977  86.6709 ...  75.2206  76.6396  79.2865]]\n",
            "\n",
            " [[123.125  125.8581 122.0757 ... 123.5747 124.1186 123.3144]\n",
            "  [121.1683 124.1294 117.4613 ... 115.6078 119.5751 122.8306]\n",
            "  [124.6132 121.1019 109.6623 ... 111.1783 119.7923 124.7595]\n",
            "  ...\n",
            "  [135.1391 127.3679 117.754  ...  95.0919 105.5917 114.9283]\n",
            "  [134.8402 131.9545 124.0415 ...  93.864  105.3036 115.1132]\n",
            "  [134.8402 132.0685 128.34   ...  93.9349 104.7875 113.8252]]\n",
            "\n",
            " ...\n",
            "\n",
            " [[154.094  155.8057 156.8164 ... 138.9322 136.1605 133.0468]\n",
            "  [145.725  147.4367 150.0343 ... 145.4477 140.9751 136.9647]\n",
            "  [144.9531 144.8391 143.85   ... 143.263  143.263  146.4799]\n",
            "  ...\n",
            "  [150.2237 150.8107 150.1097 ...  96.8207  96.9239  97.2228]\n",
            "  [151.6365 152.2235 151.1096 ... 120.8892 121.8891 123.1771]\n",
            "  [146.5769 147.9358 147.9358 ... 135.1328 136.6596 137.6595]]\n",
            "\n",
            " [[207.4954 208.4953 213.0218 ... 210.1361 208.4244 203.4357]\n",
            "  [204.4957 207.6094 213.6088 ... 209.4243 207.8374 202.5498]\n",
            "  [204.3216 208.3212 212.9078 ... 209.0222 207.1364 201.4359]\n",
            "  ...\n",
            "  [199.1372 202.083  207.4523 ... 212.8477 211.8478 209.5491]\n",
            "  [201.137  201.61   205.2676 ... 213.9616 213.5487 209.1362]\n",
            "  [202.9088 202.9088 206.9084 ... 214.1357 212.1359 209.1362]]\n",
            "\n",
            " [[ 95.0784  96.0783 100.0779 ... 122.7551 122.8691 122.8691]\n",
            "  [ 95.0784  96.0783 100.0779 ... 122.8691 122.9831 122.9831]\n",
            "  [ 95.0784  96.0783 101.0778 ... 126.5698 126.9827 126.9827]\n",
            "  ...\n",
            "  [ 98.833   99.8329 103.8325 ... 129.8962 131.896  131.896 ]\n",
            "  [ 98.833   99.8329 103.8325 ... 136.0805 138.1943 138.1943]\n",
            "  [ 98.833   99.8329 103.8325 ... 138.0803 140.493  140.493 ]]]\n"
          ]
        }
      ],
      "source": [
        "# Explore X_train content\n",
        "print(data_Xtrain[()])"
      ]
    },
    {
      "cell_type": "markdown",
      "metadata": {
        "id": "DSVInUE75rZv"
      },
      "source": [
        "The above output is an array of the pixel values of each image that belongs to the train group"
      ]
    },
    {
      "cell_type": "code",
      "execution_count": 245,
      "metadata": {
        "colab": {
          "base_uri": "https://localhost:8080/"
        },
        "id": "DOmOY4Kn2U7C",
        "outputId": "c3fb3071-2a7d-4156-e155-322cdd3d408d"
      },
      "outputs": [
        {
          "name": "stdout",
          "output_type": "stream",
          "text": [
            "<HDF5 dataset \"X_val\": shape (60000, 32, 32), type \"<f4\">\n"
          ]
        }
      ],
      "source": [
        "# Explore X_val structure\n",
        "data_Xval = file['X_val']\n",
        "print(data_Xval)"
      ]
    },
    {
      "cell_type": "markdown",
      "metadata": {
        "id": "a_fn2rgU55i2"
      },
      "source": [
        "I see that X_val has a total of 60000 images. Each image is 32x32 pixels. The type is also f4, which corresponds to numpy.float32"
      ]
    },
    {
      "cell_type": "code",
      "execution_count": 246,
      "metadata": {
        "colab": {
          "base_uri": "https://localhost:8080/"
        },
        "id": "Jflyd7u52r_L",
        "outputId": "0bea7534-598b-486d-9608-5e5efe0dcb17"
      },
      "outputs": [
        {
          "name": "stdout",
          "output_type": "stream",
          "text": [
            "[[[ 44.299   45.9999  51.3306 ...  25.2764  27.515   27.156 ]\n",
            "  [ 49.1351  60.3081  70.1222 ...  23.7002  25.2378  24.2918]\n",
            "  [ 60.7595  83.7141 102.1961 ...  24.5044  24.9712  22.8512]\n",
            "  ...\n",
            "  [ 67.1072  93.2464 109.2017 ...  26.6444  24.6015  22.9607]\n",
            "  [ 24.7569  36.6417  48.9071 ...  21.9268  21.5309  21.5479]\n",
            "  [ 22.6584  22.7724  27.2666 ...  21.443   20.8191  20.0812]]\n",
            "\n",
            " [[ 66.174   66.2772  67.5652 ...  63.1545  81.6751 103.6083]\n",
            "  [ 69.8424  67.7178  66.3481 ...  55.8994  69.8935  93.4244]\n",
            "  [ 67.8489  67.6532  66.2835 ...  57.3445  70.3495  92.7665]\n",
            "  ...\n",
            "  [ 70.7993  64.7613  62.652  ...  71.0335  94.8695 114.3038]\n",
            "  [ 68.3094  64.4561  63.3036 ...  71.0335  94.3965 114.5318]\n",
            "  [ 65.9182  65.7764  66.2925 ...  71.3324  94.3965 114.4178]]\n",
            "\n",
            " [[110.2584 107.0307 104.9169 ...  88.0649  86.478   85.7061]\n",
            "  [108.5575 103.8569 102.629  ...  98.0639  97.064   96.477 ]\n",
            "  [104.2698  99.1563  98.3413 ... 106.0631 106.476  107.7748]\n",
            "  ...\n",
            "  [104.7105 101.5367 100.1778 ... 122.0014 116.703  111.0025]\n",
            "  [110.9379 108.3511 108.4651 ... 104.601  101.3024  97.3028]\n",
            "  [116.8233 115.5245 115.6385 ... 102.0142 100.0144  99.0145]]\n",
            "\n",
            " ...\n",
            "\n",
            " [[ 42.3595  41.0715  41.1316 ...  63.194   62.9059  64.0306]\n",
            "  [ 42.3595  43.0713  42.8433 ...  50.6791  51.9178  53.2166]\n",
            "  [ 43.3594  44.3593  44.1313 ...  47.2773  47.9891  49.217 ]\n",
            "  ...\n",
            "  [ 44.9401  44.766   44.652  ...  42.056   42.0668  42.0668]\n",
            "  [ 43.9402  43.7661  43.9402 ...  37.5834  38.1812  37.0673]\n",
            "  [ 43.0004  43.9402  43.9402 ...  33.5838  35.1815  35.1815]]\n",
            "\n",
            " [[216.9953 215.9954 212.9957 ... 179.2935 177.9516 175.9518]\n",
            "  [218.7671 215.7674 216.7072 ... 178.0656 179.9514 178.2505]\n",
            "  [216.6533 216.1803 220.1198 ... 177.8376 179.6094 175.5497]\n",
            "  ...\n",
            "  [180.4182 178.1195 179.1194 ... 180.5214 181.4073 177.8098]\n",
            "  [181.9342 177.9346 179.1194 ... 178.8097 179.8096 175.924 ]\n",
            "  [182.9341 179.9344 181.7062 ... 178.8097 178.8097 175.924 ]]\n",
            "\n",
            " [[115.1877 114.1878 115.1877 ... 116.6498 116.8778 115.7639]\n",
            "  [115.8887 114.8888 115.8887 ... 116.6498 115.8779 117.6497]\n",
            "  [115.8887 116.1768 116.1768 ... 116.6498 117.8777 117.7637]\n",
            "  ...\n",
            "  [ 77.6736  64.0771  65.0878 ... 117.7314 117.9594 118.2475]\n",
            "  [ 72.9021  63.0772  66.0877 ... 117.8454 117.9594 118.2475]\n",
            "  [ 68.3047  63.0772  68.3864 ... 116.9595 117.9594 118.2475]]]\n"
          ]
        }
      ],
      "source": [
        "# Explore X_train content\n",
        "print(data_Xval[()])"
      ]
    },
    {
      "cell_type": "markdown",
      "metadata": {
        "id": "sbbHZHz66Uss"
      },
      "source": [
        "In the above output, I see the pixel values of each image that belongs to the group of X_val"
      ]
    },
    {
      "cell_type": "code",
      "execution_count": 247,
      "metadata": {
        "colab": {
          "base_uri": "https://localhost:8080/"
        },
        "id": "XMGs6fjA6ju1",
        "outputId": "50a5ee7a-678a-435c-aa6f-993a904d3a90"
      },
      "outputs": [
        {
          "name": "stdout",
          "output_type": "stream",
          "text": [
            "<HDF5 dataset \"y_train\": shape (42000,), type \"|u1\">\n"
          ]
        }
      ],
      "source": [
        "# Explore structure of y_train\n",
        "data_y_train = file['y_train']\n",
        "print(data_y_train)"
      ]
    },
    {
      "cell_type": "markdown",
      "metadata": {
        "id": "-1abO4cg7LsW"
      },
      "source": [
        "I see that in the y_train group is a one dimensional array. There are 42000 image labels. Each image label describes an image.\n",
        "\n",
        "Additionally, I see that this group is |u1 type, which means it i unsigned 8-bit integer. This refers to numbers from 0 to 255. This data type corresponds to the numpy.uint8"
      ]
    },
    {
      "cell_type": "code",
      "execution_count": 248,
      "metadata": {
        "colab": {
          "base_uri": "https://localhost:8080/"
        },
        "id": "riatrOd6G5om",
        "outputId": "1cd1697d-6553-4d81-ab8f-77f49744c8b3"
      },
      "outputs": [
        {
          "name": "stdout",
          "output_type": "stream",
          "text": [
            "2\n",
            "6\n",
            "7\n",
            "4\n",
            "4\n",
            "0\n",
            "3\n",
            "0\n",
            "7\n",
            "3\n",
            "1\n",
            "0\n",
            "1\n",
            "3\n",
            "1\n",
            "1\n",
            "0\n",
            "0\n",
            "8\n",
            "4\n"
          ]
        }
      ],
      "source": [
        "# Explore content of y_train\n",
        "for d_y in data_y_train[:20]:\n",
        "  print(d_y)"
      ]
    },
    {
      "cell_type": "code",
      "execution_count": 249,
      "metadata": {
        "colab": {
          "base_uri": "https://localhost:8080/"
        },
        "id": "XFkbDBs1H4Zw",
        "outputId": "2f35ff3d-43e2-4300-99f1-2a09a7378938"
      },
      "outputs": [
        {
          "name": "stdout",
          "output_type": "stream",
          "text": [
            "[0, 1, 2, 3, 4, 5, 6, 7, 8, 9]\n"
          ]
        }
      ],
      "source": [
        "# Determine unique labels of y_train\n",
        "digits = []\n",
        "for d_y in data_y_train:\n",
        "  if d_y not in digits:\n",
        "    digits.append(d_y)\n",
        "\n",
        "print(sorted(digits))"
      ]
    },
    {
      "cell_type": "markdown",
      "metadata": {
        "id": "fpV5UHBxHsJm"
      },
      "source": [
        "I see that labels of y_train group are one digit, ranging from 0 to 9."
      ]
    },
    {
      "cell_type": "code",
      "execution_count": 250,
      "metadata": {
        "colab": {
          "base_uri": "https://localhost:8080/"
        },
        "id": "uZ0L6i-n6p83",
        "outputId": "74494f9e-15c3-497b-80f6-b4de66bbf0f9"
      },
      "outputs": [
        {
          "name": "stdout",
          "output_type": "stream",
          "text": [
            "<HDF5 dataset \"y_val\": shape (60000,), type \"|u1\">\n"
          ]
        }
      ],
      "source": [
        "data_y_val = file['y_val']\n",
        "print(data_y_val)"
      ]
    },
    {
      "cell_type": "markdown",
      "metadata": {
        "id": "nomHtonbI-u2"
      },
      "source": [
        "I see that y_val group has 60000 labels. This group is |u1 type, which corresponds to numpy.uint8"
      ]
    },
    {
      "cell_type": "code",
      "execution_count": 251,
      "metadata": {
        "colab": {
          "base_uri": "https://localhost:8080/"
        },
        "id": "aq_JU39eJWHO",
        "outputId": "3a39f75e-e67a-4118-90ad-c2652d6ebd87"
      },
      "outputs": [
        {
          "name": "stdout",
          "output_type": "stream",
          "text": [
            "2\n",
            "2\n",
            "2\n",
            "2\n",
            "2\n",
            "2\n",
            "2\n",
            "2\n",
            "2\n",
            "2\n",
            "2\n",
            "2\n",
            "2\n",
            "2\n",
            "2\n",
            "2\n",
            "2\n",
            "2\n",
            "2\n",
            "2\n"
          ]
        }
      ],
      "source": [
        "# Explore content of y_val\n",
        "for d_v in data_y_val[10000:10020]:\n",
        "  print(d_v)"
      ]
    },
    {
      "cell_type": "code",
      "execution_count": 252,
      "metadata": {
        "colab": {
          "base_uri": "https://localhost:8080/"
        },
        "id": "io8mJNvJJkXB",
        "outputId": "0f42d68b-5a5d-44c4-97f9-d1670a6cbc29"
      },
      "outputs": [
        {
          "name": "stdout",
          "output_type": "stream",
          "text": [
            "[0, 1, 2, 3, 4, 5, 6, 7, 8, 9]\n"
          ]
        }
      ],
      "source": [
        "# Determine unique labels of y_val\n",
        "digits_v = []\n",
        "\n",
        "for d_v in data_y_val:\n",
        "  if d_v not in digits_v:\n",
        "    digits_v.append(d_v)\n",
        "\n",
        "print(sorted(digits_v))"
      ]
    },
    {
      "cell_type": "markdown",
      "metadata": {
        "id": "PTahhCPhKrFL"
      },
      "source": [
        "I see that y_val group has one digit labels and they range from 0 to 9."
      ]
    },
    {
      "cell_type": "code",
      "execution_count": 253,
      "metadata": {
        "colab": {
          "base_uri": "https://localhost:8080/"
        },
        "id": "UkCvnR85E7t-",
        "outputId": "41481b7e-ea1f-4b1d-edcf-4d651ff5f1ab"
      },
      "outputs": [
        {
          "name": "stdout",
          "output_type": "stream",
          "text": [
            "<HDF5 dataset \"X_test\": shape (18000, 32, 32), type \"<f4\">\n"
          ]
        }
      ],
      "source": [
        "# Explore structure of X_test\n",
        "data_X_test = file['X_test']\n",
        "print(data_X_test)"
      ]
    },
    {
      "cell_type": "markdown",
      "metadata": {
        "id": "NNlK_86bkgAj"
      },
      "source": [
        "I see that X_test group has 18000 images. Each image is 32x32 pixels. They are type f4, which corresponds to numpy.float32."
      ]
    },
    {
      "cell_type": "code",
      "execution_count": 254,
      "metadata": {
        "colab": {
          "base_uri": "https://localhost:8080/"
        },
        "id": "dnX0UUCYk3AF",
        "outputId": "a43dcfbc-b243-4976-ad2e-ec90a7ab2411"
      },
      "outputs": [
        {
          "name": "stdout",
          "output_type": "stream",
          "text": [
            "[[[ 40.558   46.7917  48.9764 ... 112.1153 112.9904 112.1646]\n",
            "  [ 39.4379  44.2911  47.1768 ... 111.0122 110.9475 109.9368]\n",
            "  [ 38.4488  43.6394  48.7098 ... 109.8921 109.9414 109.1048]\n",
            "  ...\n",
            "  [ 34.9869  35.4707  39.6676 ... 109.211  109.9074 112.7346]\n",
            "  [ 35.6602  35.5462  40.3193 ... 110.9998 112.049  114.3431]\n",
            "  [ 36.1871  35.4214  40.6998 ... 110.0169 111.2017 114.1906]]\n",
            "\n",
            " [[115.1609 114.161  113.1611 ... 112.0302 112.6711 112.7851]\n",
            "  [110.5743 110.2754 108.9766 ... 106.1448 106.7857 107.0137]\n",
            "  [102.8031 102.5042 101.7924 ...  95.776   95.531   95.645 ]\n",
            "  ...\n",
            "  [169.8457 170.6176 167.8028 ...  45.1708  55.6967  62.81  ]\n",
            "  [157.7329 157.6189 153.8042 ...  42.9538  50.1811  56.1805]\n",
            "  [150.3207 149.2068 144.8051 ...  42.1388  48.2522  53.2517]]\n",
            "\n",
            " [[133.255  134.7279 136.3148 ... 103.7248 100.8391 100.6111]\n",
            "  [134.2549 135.8418 138.3146 ... 117.1965 114.1968 114.0828]\n",
            "  [136.2547 135.9558 137.4287 ... 126.8535 123.7398 123.4409]\n",
            "  ...\n",
            "  [135.4136 133.4847 131.2569 ... 129.0552 131.642  133.4569]\n",
            "  [129.3972 128.7671 127.8381 ... 128.5822 129.2832 129.9842]\n",
            "  [119.0823 120.8649 123.0496 ... 128.1801 127.8103 128.2124]]\n",
            "\n",
            " ...\n",
            "\n",
            " [[166.1898 164.7169 162.8311 ...  92.9414  97.3431  97.9301]\n",
            "  [164.6029 163.717  162.1301 ...  93.0554  97.3431  97.0442]\n",
            "  [161.9021 161.9021 161.1302 ...  94.1693  97.5711  97.1582]\n",
            "  ...\n",
            "  [ 75.0679  84.8219  96.8638 ... 163.9019 163.7879 163.6739]\n",
            "  [ 81.0673  87.2947  93.935  ... 163.016  162.788  162.674 ]\n",
            "  [ 86.7247  89.4794  92.8211 ... 162.902  162.788  162.674 ]]\n",
            "\n",
            " [[137.5778 136.6919 134.8061 ... 111.1397 109.314  108.0152]\n",
            "  [131.5784 130.6925 127.9208 ... 107.1401 105.5424 104.2436]\n",
            "  [119.8076 118.8077 115.0361 ... 101.2547  99.771   98.8851]\n",
            "  ...\n",
            "  [130.0238 129.0239 125.1383 ... 141.3755 141.3755 140.3756]\n",
            "  [134.0234 134.0234 133.1375 ... 144.4892 143.3753 142.3754]\n",
            "  [136.0232 137.0231 138.137  ... 144.7881 142.7883 141.7884]]\n",
            "\n",
            " [[ 30.182   30.182   30.182  ...  41.1208  42.1207  42.8217]\n",
            "  [ 30.182   30.182   29.595  ...  40.1209  41.1208  41.8218]\n",
            "  [ 29.8939  29.8939  28.894  ...  39.121   40.1209  40.1209]\n",
            "  ...\n",
            "  [ 31.9431  31.9431  31.9431 ...  51.4958  50.9088  49.9089]\n",
            "  [ 31.1712  31.1712  32.0571 ...  40.2627  39.9638  39.2628]\n",
            "  [ 31.1712  31.1712  32.1711 ...  35.0891  34.6762  34.0892]]]\n"
          ]
        }
      ],
      "source": [
        "# Explore X_test content\n",
        "print(data_X_test[()])"
      ]
    },
    {
      "cell_type": "markdown",
      "metadata": {
        "id": "_7F_CPQglGCR"
      },
      "source": [
        "In the above output I see the pixel values for each image that belongs to the X_test group."
      ]
    },
    {
      "cell_type": "code",
      "execution_count": 255,
      "metadata": {
        "colab": {
          "base_uri": "https://localhost:8080/"
        },
        "id": "t0aOI9gQE7wb",
        "outputId": "f863a586-28f1-4a9f-c5a1-bad305e42e70"
      },
      "outputs": [
        {
          "name": "stdout",
          "output_type": "stream",
          "text": [
            "<HDF5 dataset \"y_test\": shape (18000,), type \"|u1\">\n"
          ]
        }
      ],
      "source": [
        "# Explore structure of y_test\n",
        "data_y_test = file['y_test']\n",
        "print(data_y_test)"
      ]
    },
    {
      "cell_type": "markdown",
      "metadata": {
        "id": "tPna_6gCliGd"
      },
      "source": [
        "I see that y_test has 18000 labels. They are type |u1, which corresponds to numpy.uint8."
      ]
    },
    {
      "cell_type": "code",
      "execution_count": 256,
      "metadata": {
        "colab": {
          "base_uri": "https://localhost:8080/"
        },
        "id": "m_VNflqsE7z1",
        "outputId": "ade5792c-fb54-40e5-bd1e-ca03a3ed82ed"
      },
      "outputs": [
        {
          "name": "stdout",
          "output_type": "stream",
          "text": [
            "4\n",
            "3\n",
            "8\n",
            "0\n",
            "0\n",
            "6\n",
            "5\n",
            "9\n",
            "7\n",
            "9\n",
            "6\n",
            "7\n",
            "1\n",
            "4\n",
            "5\n",
            "7\n",
            "2\n",
            "0\n",
            "0\n",
            "0\n"
          ]
        }
      ],
      "source": [
        "# Explore X_test content\n",
        "for d_t in data_y_test[10000:10020]:\n",
        "  print(d_t)"
      ]
    },
    {
      "cell_type": "code",
      "execution_count": 257,
      "metadata": {
        "colab": {
          "base_uri": "https://localhost:8080/"
        },
        "id": "Fh4XneRR6qEw",
        "outputId": "15066e83-726b-4f33-91ba-39b9e23f4705"
      },
      "outputs": [
        {
          "name": "stdout",
          "output_type": "stream",
          "text": [
            "[0, 1, 2, 3, 4, 5, 6, 7, 8, 9]\n"
          ]
        }
      ],
      "source": [
        "# Determine unique labels of y_test\n",
        "digits_t = []\n",
        "\n",
        "for d_t in data_y_test:\n",
        "  if d_t not in digits_t:\n",
        "    digits_t.append(d_t)\n",
        "\n",
        "print(sorted(digits_t))"
      ]
    },
    {
      "cell_type": "markdown",
      "metadata": {
        "id": "3gvey23WmetI"
      },
      "source": [
        "I see that y_test group has one digit labels that range from 0 to 9."
      ]
    },
    {
      "cell_type": "code",
      "execution_count": 258,
      "metadata": {
        "colab": {
          "base_uri": "https://localhost:8080/"
        },
        "id": "B9pgK0LFKBNs",
        "outputId": "f2e58e8b-03d7-4571-fa8e-06f828616972"
      },
      "outputs": [
        {
          "data": {
            "text/plain": [
              "['X_test', 'X_train', 'X_val', 'y_test', 'y_train', 'y_val']"
            ]
          },
          "execution_count": 258,
          "metadata": {},
          "output_type": "execute_result"
        }
      ],
      "source": [
        "# Get list of key names\n",
        "file_keys = list(file.keys())\n",
        "file_keys"
      ]
    },
    {
      "cell_type": "code",
      "execution_count": 259,
      "metadata": {
        "id": "BApX9qgNsqV0",
        "scrolled": true
      },
      "outputs": [],
      "source": [
        "# Split dataset into train and test and format it into arrays\n",
        "X_test = np.array(file['X_test'])\n",
        "y_test = np.array(file['y_test'])\n",
        "X_train = np.array(file['X_train'])\n",
        "y_train = np.array(file['y_train'])"
      ]
    },
    {
      "cell_type": "code",
      "execution_count": 260,
      "metadata": {
        "id": "slL7HLmPB0RD"
      },
      "outputs": [],
      "source": [
        "# Close the file\n",
        "file.close()"
      ]
    },
    {
      "cell_type": "markdown",
      "metadata": {
        "id": "hVe0CYpUgj7w"
      },
      "source": [
        "Check the number of images in the training and the testing dataset."
      ]
    },
    {
      "cell_type": "code",
      "execution_count": 261,
      "metadata": {
        "colab": {
          "base_uri": "https://localhost:8080/"
        },
        "id": "y3lwKpOefkpA",
        "outputId": "cc709021-0772-4dd5-c786-279ec8595317"
      },
      "outputs": [
        {
          "data": {
            "text/plain": [
              "(42000, 32, 32)"
            ]
          },
          "execution_count": 261,
          "metadata": {},
          "output_type": "execute_result"
        }
      ],
      "source": [
        "X_train.shape"
      ]
    },
    {
      "cell_type": "code",
      "execution_count": 262,
      "metadata": {
        "colab": {
          "base_uri": "https://localhost:8080/"
        },
        "id": "jTu5EE7XnOE-",
        "outputId": "ac6c225d-e43b-4822-c7ad-6af0e33659ec"
      },
      "outputs": [
        {
          "data": {
            "text/plain": [
              "(42000,)"
            ]
          },
          "execution_count": 262,
          "metadata": {},
          "output_type": "execute_result"
        }
      ],
      "source": [
        "y_train.shape"
      ]
    },
    {
      "cell_type": "code",
      "execution_count": 263,
      "metadata": {
        "colab": {
          "base_uri": "https://localhost:8080/"
        },
        "id": "S-JiDXwVNDER",
        "outputId": "c076faeb-8702-4978-b098-12bab7e1709b"
      },
      "outputs": [
        {
          "data": {
            "text/plain": [
              "(18000, 32, 32)"
            ]
          },
          "execution_count": 263,
          "metadata": {},
          "output_type": "execute_result"
        }
      ],
      "source": [
        "X_test.shape"
      ]
    },
    {
      "cell_type": "code",
      "execution_count": 264,
      "metadata": {
        "colab": {
          "base_uri": "https://localhost:8080/"
        },
        "id": "DbtGvfIaoOTP",
        "outputId": "efe03ba7-e46b-4b24-bee0-1df70fd2d9f1"
      },
      "outputs": [
        {
          "data": {
            "text/plain": [
              "(18000,)"
            ]
          },
          "execution_count": 264,
          "metadata": {},
          "output_type": "execute_result"
        }
      ],
      "source": [
        "y_test.shape"
      ]
    },
    {
      "cell_type": "markdown",
      "metadata": {
        "id": "akTUOfLlgwoM"
      },
      "source": [
        "**Observation:**"
      ]
    },
    {
      "cell_type": "markdown",
      "metadata": {
        "id": "69dRoFQpNqba"
      },
      "source": [
        "*   The first dimension of X_train is 42000, which denotes the number of images in the training data. Each image is stacked on top of the other, making it a 3-dimensional numpy array.\n",
        "*   In the X_train, the second and third dimensions 32 and 32 denote the number of pixels along the height and width of the 2-dimensional image.\n",
        "*   The y_train has 42000 image labels.\n",
        "*   In X_test, the first dimension 18000 denotes the number of images in the training data, and each image is stacked on top of the other, making it a 3-dimensional numpy array.\n",
        "*   In the X_test, the second and third dimensions 32,32 denote the number of pixels along the height and width of the 2-dimensional image.\n",
        "*   In the y_test, there are 18000 labels\n",
        "*   The number of labels and images in the training datasets is the same. The same applies to the testing dataset.\n",
        "\n",
        "\n"
      ]
    },
    {
      "cell_type": "markdown",
      "metadata": {
        "id": "kxODV6HKykuc"
      },
      "source": [
        "## **Visualizing images**\n",
        "\n",
        "- Use X_train to visualize the first 10 images.\n",
        "- Use Y_train to print the first 10 labels."
      ]
    },
    {
      "cell_type": "code",
      "execution_count": 265,
      "metadata": {
        "colab": {
          "base_uri": "https://localhost:8080/",
          "height": 686
        },
        "id": "Bvsc8ytHsqWD",
        "outputId": "212794d8-660a-4887-ec3a-c56ed7cf7a2a"
      },
      "outputs": [
        {
          "data": {
            "image/png": "[encoded data removed]",
            "text/plain": [
              "<Figure size 1000x800 with 12 Axes>"
            ]
          },
          "metadata": {},
          "output_type": "display_data"
        }
      ],
      "source": [
        "num_classes=10                                                                  # Number of Classes\n",
        "categories=np.unique(X_train)                                                   # Obtaing the unique classes from y_train\n",
        "rows = 3                                                                        # Defining number of rows=3\n",
        "cols = 4                                                                        # Defining number of columns=4\n",
        "fig = plt.figure(figsize=(10, 8))                                               # Defining the figure size to 10x8\n",
        "for i in range(cols):\n",
        "    for j in range(rows):\n",
        "        random_index = np.random.randint(0, len(y_train))                       # Generating random indices from the data and plotting the images\n",
        "        ax = fig.add_subplot(rows, cols, i * rows + j + 1)                      # Adding subplots with 3 rows and 4 columns\n",
        "        ax.imshow(X_train[random_index, :], cmap=plt.get_cmap('gray'))          # Plotting the image using cmap=gray\n",
        "        ax.set_title(categories[y_train[random_index]])\n",
        "plt.show()"
      ]
    },
    {
      "cell_type": "code",
      "execution_count": 266,
      "metadata": {
        "colab": {
          "base_uri": "https://localhost:8080/",
          "height": 686
        },
        "id": "rkE5tYYJRP19",
        "outputId": "5c8f4243-11cb-4f67-ed5b-64e1861dbeae"
      },
      "outputs": [
        {
          "data": {
            "image/png": "[encoded data removed]",
            "text/plain": [
              "<Figure size 1000x800 with 12 Axes>"
            ]
          },
          "metadata": {},
          "output_type": "display_data"
        }
      ],
      "source": [
        "num_classes=10                                                                  # Number of Classes\n",
        "categories=np.unique(y_train)                                                   # Obtaing the unique classes from y_train\n",
        "rows = 3                                                                        # Defining number of rows=3\n",
        "cols = 4                                                                        # Defining number of columns=4\n",
        "fig = plt.figure(figsize=(10, 8))                                               # Defining the figure size to 10x8\n",
        "for i in range(cols):\n",
        "    for j in range(rows):\n",
        "        random_index = np.random.randint(0, len(y_train))                       # Generating random indices from the data and plotting the images\n",
        "        ax = fig.add_subplot(rows, cols, i * rows + j + 1)                      # Adding subplots with 3 rows and 4 columns\n",
        "        ax.imshow(X_train[random_index, :], cmap=plt.get_cmap('gray'))          # Plotting the image using cmap=gray\n",
        "        ax.set_title(categories[y_train[random_index]])\n",
        "plt.show()"
      ]
    },
    {
      "cell_type": "code",
      "execution_count": 267,
      "metadata": {
        "colab": {
          "base_uri": "https://localhost:8080/",
          "height": 430
        },
        "id": "dU-DNAobetuq",
        "outputId": "8ae292f6-53ab-4e06-d285-4848c98b1896"
      },
      "outputs": [
        {
          "data": {
            "image/png": "[encoded data removed]",
            "text/plain": [
              "<Figure size 640x480 with 1 Axes>"
            ]
          },
          "metadata": {},
          "output_type": "display_data"
        }
      ],
      "source": [
        "# Plot distribution of each category\n",
        "count_plot = sns.countplot(x=y_train)"
      ]
    },
    {
      "cell_type": "markdown",
      "metadata": {
        "id": "4eWrwaEk1HrS"
      },
      "source": [
        "In the above plot, I see that there is about 4000 images in each label group. Dataset seems to be relatively balanced."
      ]
    },
    {
      "cell_type": "markdown",
      "metadata": {
        "id": "kzoyeXHOy80N"
      },
      "source": [
        "## **Data preparation**\n",
        "\n",
        "- Print the shape and the array of pixels for the first image in the training dataset.\n",
        "- Normalize the train and the test dataset by dividing by 255.\n",
        "- Print the new shapes of the train and the test dataset.\n",
        "- One-hot encode the target variable."
      ]
    },
    {
      "cell_type": "code",
      "execution_count": 268,
      "metadata": {
        "colab": {
          "base_uri": "https://localhost:8080/"
        },
        "id": "NqndzQXng9rL",
        "outputId": "24f9a2b4-8e43-46bf-be08-de8e6f6db049"
      },
      "outputs": [
        {
          "data": {
            "text/plain": [
              "array([[ 33.0704,  30.2601,  26.852 , ...,  71.4471,  58.2204,  42.9939],\n",
              "       [ 25.2283,  25.5533,  29.9765, ..., 113.0209, 103.3639,  84.2949],\n",
              "       [ 26.2775,  22.6137,  40.4763, ..., 113.3028, 121.775 , 115.4228],\n",
              "       ...,\n",
              "       [ 28.5502,  36.212 ,  45.0801, ...,  24.1359,  25.0927,  26.0603],\n",
              "       [ 38.4352,  26.4733,  23.2717, ...,  28.1094,  29.4683,  30.0661],\n",
              "       [ 50.2984,  26.0773,  24.0389, ...,  49.6682,  50.853 ,  53.0377]],\n",
              "      dtype=float32)"
            ]
          },
          "execution_count": 268,
          "metadata": {},
          "output_type": "execute_result"
        }
      ],
      "source": [
        "X_train[0]"
      ]
    },
    {
      "cell_type": "code",
      "execution_count": 269,
      "metadata": {
        "colab": {
          "base_uri": "https://localhost:8080/"
        },
        "id": "20kndTmUVcFj",
        "outputId": "0d97c95c-1fb5-4ec8-fe1d-be94bb561edc"
      },
      "outputs": [
        {
          "data": {
            "text/plain": [
              "2"
            ]
          },
          "execution_count": 269,
          "metadata": {},
          "output_type": "execute_result"
        }
      ],
      "source": [
        "y_train[0]"
      ]
    },
    {
      "cell_type": "code",
      "execution_count": 270,
      "metadata": {
        "id": "DAyNK-nyE8_B"
      },
      "outputs": [],
      "source": [
        "# Reshape dataset to fit model architecture\n",
        "X_train = X_train.reshape((X_train.shape[0], 1024))\n",
        "X_test = X_test.reshape((X_test.shape[0], 1024))"
      ]
    },
    {
      "cell_type": "code",
      "execution_count": 271,
      "metadata": {
        "colab": {
          "base_uri": "https://localhost:8080/"
        },
        "id": "8Rgemin_FHZ8",
        "outputId": "5e5d7d2b-710c-4200-ed94-ecd4d572890d"
      },
      "outputs": [
        {
          "name": "stdout",
          "output_type": "stream",
          "text": [
            "<class 'numpy.ndarray'>\n",
            "(42000, 1024)\n"
          ]
        }
      ],
      "source": [
        "# Print type and new shape of dataset\n",
        "print(type(X_train))\n",
        "print(X_train.shape)"
      ]
    },
    {
      "cell_type": "code",
      "execution_count": 272,
      "metadata": {
        "colab": {
          "base_uri": "https://localhost:8080/"
        },
        "id": "LZBgPx5HFMmn",
        "outputId": "37c3ea9f-e92f-4303-8d4c-9f3eaadd8ed5"
      },
      "outputs": [
        {
          "name": "stdout",
          "output_type": "stream",
          "text": [
            "<class 'numpy.ndarray'>\n",
            "(18000, 1024)\n"
          ]
        }
      ],
      "source": [
        "# Print type and new shape of dataset\n",
        "print(type(X_test))\n",
        "print(X_test.shape)"
      ]
    },
    {
      "cell_type": "markdown",
      "metadata": {
        "id": "f4CQkKtQ0XII"
      },
      "source": [
        "### **Normalize the train and the test data**"
      ]
    },
    {
      "cell_type": "code",
      "execution_count": 273,
      "metadata": {
        "id": "q_yUUTp_mUzB"
      },
      "outputs": [],
      "source": [
        "# Normalizing using the scaling method since image pixel values range from 0 to 255\n",
        "X_train_normalized = X_train.astype('float32')/255.0\n",
        "X_test_normalized = X_test.astype('float32')/255.0"
      ]
    },
    {
      "cell_type": "markdown",
      "metadata": {
        "id": "YSlYN6pb8kMY"
      },
      "source": [
        "Print the shapes of Training and Test data"
      ]
    },
    {
      "cell_type": "code",
      "execution_count": 274,
      "metadata": {
        "colab": {
          "base_uri": "https://localhost:8080/"
        },
        "id": "t7FSqOpamWkH",
        "outputId": "ccc5545a-b934-4236-8013-c4aa85eb75e3"
      },
      "outputs": [
        {
          "name": "stdout",
          "output_type": "stream",
          "text": [
            "(42000, 1024)\n"
          ]
        }
      ],
      "source": [
        "# Print shape of normalized training data\n",
        "print(X_train_normalized.shape)"
      ]
    },
    {
      "cell_type": "code",
      "execution_count": 275,
      "metadata": {
        "colab": {
          "base_uri": "https://localhost:8080/"
        },
        "id": "0teWAefjkJSE",
        "outputId": "6fc5da3f-be17-41a8-dfe9-7da8f37fb2ad"
      },
      "outputs": [
        {
          "name": "stdout",
          "output_type": "stream",
          "text": [
            "<class 'numpy.ndarray'>\n",
            "(18000, 1024)\n"
          ]
        }
      ],
      "source": [
        "# Print shape of normalized test data\n",
        "print(type(X_test_normalized))\n",
        "print(X_test_normalized.shape)"
      ]
    },
    {
      "cell_type": "markdown",
      "metadata": {
        "id": "qCv4dGsFvsCA"
      },
      "source": [
        "**Observation:**\n",
        "Datasets are normalized because we want to reduce the chances of getting stuck at local optima. When we normalize, we help avoid the vainishing/exploding gradient problem, which happens when very small or large error accumulates, causing very small or large updates to neural network model weights during the training process. It also makes the training go faster."
      ]
    },
    {
      "cell_type": "markdown",
      "metadata": {
        "id": "0uLxXBpz81vk"
      },
      "source": [
        "### **One-hot encode output**"
      ]
    },
    {
      "cell_type": "code",
      "execution_count": 276,
      "metadata": {
        "colab": {
          "base_uri": "https://localhost:8080/"
        },
        "id": "zL0lYER4sqWw",
        "outputId": "e6311bed-7a2e-4ea6-be9f-0bf5843cc3db"
      },
      "outputs": [
        {
          "data": {
            "text/plain": [
              "(42000, 10)"
            ]
          },
          "execution_count": 276,
          "metadata": {},
          "output_type": "execute_result"
        }
      ],
      "source": [
        "# Creating one-hot encoded representation of target labels\n",
        "y_train_encoded = tf.keras.utils.to_categorical(y_train)\n",
        "y_train_encoded.shape"
      ]
    },
    {
      "cell_type": "code",
      "execution_count": 277,
      "metadata": {
        "colab": {
          "base_uri": "https://localhost:8080/"
        },
        "id": "K7fhSToXxz4R",
        "outputId": "859401a8-8b50-40f0-c0f0-332e4212bec6"
      },
      "outputs": [
        {
          "data": {
            "text/plain": [
              "(18000, 10)"
            ]
          },
          "execution_count": 277,
          "metadata": {},
          "output_type": "execute_result"
        }
      ],
      "source": [
        "# Creating one-hot encoded representation of target labels\n",
        "y_test_encoded = tf.keras.utils.to_categorical(y_test)\n",
        "y_test_encoded.shape\n"
      ]
    },
    {
      "cell_type": "markdown",
      "metadata": {
        "id": "ViqPOTquCF76"
      },
      "source": [
        "**Observation:**\n",
        "The one-hot encoded representation for the target classes was created because the output layer should have 10 neurons that will provide the probabilities of the input image being part of those 10 classes."
      ]
    },
    {
      "cell_type": "markdown",
      "metadata": {
        "id": "yH-gVrzuByNA"
      },
      "source": [
        "## **Model Building**\n",
        "\n",
        "Now that we have done the data preprocessing, let's build an ANN model.\n",
        "\n",
        "Fix the seed for random number generators"
      ]
    },
    {
      "cell_type": "code",
      "execution_count": 278,
      "metadata": {
        "id": "BcKRwrGn0XIL"
      },
      "outputs": [],
      "source": [
        "# Fixing the seed for random number generators\n",
        "import random\n",
        "np.random.seed(42)\n",
        "random.seed(42)\n",
        "tf.random.set_seed(42)"
      ]
    },
    {
      "cell_type": "markdown",
      "metadata": {
        "id": "H9lEfabbwvoh"
      },
      "source": [
        "We set the seed for random number generator to ensure we can reproduce same results every time we run the code"
      ]
    },
    {
      "cell_type": "markdown",
      "metadata": {
        "id": "UJDUoaEj1d6e"
      },
      "source": [
        "### **Model Architecture**\n",
        "- Write a function that returns a sequential model with the following architecture:\n",
        " - First hidden layer with **64 nodes and the relu activation** and the **input shape = (1024, )**\n",
        " - Second hidden layer with **32 nodes and the relu activation**\n",
        " - Output layer with **activation as 'softmax' and number of nodes equal to the number of classes, i.e., 10**\n",
        " - Compile the model with the **loss equal to categorical_crossentropy, optimizer equal to Adam(learning_rate = 0.001), and metric equal to 'accuracy'**. Do not fit the model here, just return the compiled model.\n",
        "- Call the nn_model_1 function and store the model in a new variable.\n",
        "- Print the summary of the model.\n",
        "- Fit on the train data with a **validation split of 0.2, batch size = 128, verbose = 1, and epochs = 20**. Store the model building history to use later for visualization."
      ]
    },
    {
      "cell_type": "markdown",
      "metadata": {
        "id": "A48z6ucF0XIP"
      },
      "source": [
        "### **Build and train an ANN model as per the above mentioned architecture.**"
      ]
    },
    {
      "cell_type": "code",
      "execution_count": 279,
      "metadata": {
        "id": "Cmi81Gr5sqW-"
      },
      "outputs": [],
      "source": [
        "def nn_model_1():\n",
        "  # Intializing a sequential model\n",
        "  # Create an instance of a Sequential model in Keras\n",
        "  # Sequential model is a linear stack of layers that is suitable for building feedforward neural networks\n",
        "  # In this step a blank canvas is created for constructing the neural netowrk\n",
        "  ann_model = Sequential()\n",
        "\n",
        "  # First hidden layer with 64 nodes and the relu activation and the input shape = (1024, )\n",
        "  # This adds a dense layer to the Sequential model previously created\n",
        "  # ReLU activation function introduces non-linearity\n",
        "  # Input shape is one-dimensional array with 1024 elements. This is only specified in first layer\n",
        "  ann_model.add(Dense(64, activation='relu', input_shape=(1024, )))\n",
        "\n",
        "  # Second hidden layer with 32 nodes and the relu activation\n",
        "  ann_model.add(Dense(32, activation='relu'))\n",
        "\n",
        "  # Output layer with activation as 'softmax' and number of nodes equal to the number of classes, i.e., 10\n",
        "  # Softmax function is used because it is multi-class classification problems.\n",
        "  # Softmax function transforms the raw model outputs into a probability distribution over multiple classes\n",
        "  # Softmax function ensures the sum of all probabilities in the output vector is equal to 1\n",
        "  ann_model.add(Dense(10, activation='softmax'))\n",
        "\n",
        "  # Using Adam Optimizer\n",
        "  # Adaptive Moment Estimation (Adam) is an adaptive algorithm used to train neural networks\n",
        "  # Adam efficiently and effectively update the network weights during training\n",
        "  # The smaller the learning rate parameter, the slower convergence, but it may result on more accurate weight updates\n",
        "  # The larger the learning rate parameter, leads to fater convergence, but it risks overshooting the optimal solution\n",
        "  opt = Adam(learning_rate=0.001)\n",
        "\n",
        "  # Compile the model with the loss equal to categorical_crossentropy, optimizer equal to Adam(learning_rate = 0.001), and metric equal to 'accuracy'.\n",
        "  # Categorical crossentropy is commonly used when target variable has multiple classes and each sample belongs to only one class\n",
        "  # Accuracy parameter measures the percentage of correctly classified samples out of the total samples\n",
        "  ann_model.compile(optimizer=opt,\n",
        "                loss='categorical_crossentropy',\n",
        "                metrics=['accuracy'])\n",
        "\n",
        "  return ann_model\n"
      ]
    },
    {
      "cell_type": "code",
      "execution_count": 280,
      "metadata": {
        "colab": {
          "base_uri": "https://localhost:8080/"
        },
        "id": "tx-3EQkR8fof",
        "outputId": "1a8cdca5-aad0-4dd9-83fa-fedb808f8144"
      },
      "outputs": [
        {
          "name": "stdout",
          "output_type": "stream",
          "text": [
            "Model: \"sequential_1\"\n",
            "_________________________________________________________________\n",
            " Layer (type)                Output Shape              Param #   \n",
            "=================================================================\n",
            " dense_2 (Dense)             (None, 64)                65600     \n",
            "                                                                 \n",
            " dense_3 (Dense)             (None, 32)                2080      \n",
            "                                                                 \n",
            " dense_4 (Dense)             (None, 10)                330       \n",
            "                                                                 \n",
            "=================================================================\n",
            "Total params: 68,010\n",
            "Trainable params: 68,010\n",
            "Non-trainable params: 0\n",
            "_________________________________________________________________\n"
          ]
        }
      ],
      "source": [
        "  # Call the nn_model_1 function and store the model in a new variable\n",
        "  ann_model = nn_model_1()\n",
        "\n",
        "  # Generating the summary of the model\n",
        "  ann_model.summary()"
      ]
    },
    {
      "cell_type": "code",
      "execution_count": 281,
      "metadata": {
        "colab": {
          "base_uri": "https://localhost:8080/"
        },
        "id": "doUe3ogLp1XC",
        "outputId": "c1f2e30c-1163-4413-8056-be1cca86317d"
      },
      "outputs": [
        {
          "name": "stdout",
          "output_type": "stream",
          "text": [
            "Epoch 1/20\n",
            "263/263 [==============================] - 2s 5ms/step - loss: 2.2966 - accuracy: 0.1149 - val_loss: 2.2563 - val_accuracy: 0.1470\n",
            "Epoch 2/20\n",
            "263/263 [==============================] - 1s 4ms/step - loss: 2.1132 - accuracy: 0.2275 - val_loss: 1.9753 - val_accuracy: 0.3154\n",
            "Epoch 3/20\n",
            "263/263 [==============================] - 1s 4ms/step - loss: 1.9138 - accuracy: 0.3293 - val_loss: 1.8557 - val_accuracy: 0.3582\n",
            "Epoch 4/20\n",
            "263/263 [==============================] - 1s 4ms/step - loss: 1.8125 - accuracy: 0.3811 - val_loss: 1.7706 - val_accuracy: 0.4001\n",
            "Epoch 5/20\n",
            "263/263 [==============================] - 1s 4ms/step - loss: 1.7037 - accuracy: 0.4256 - val_loss: 1.6556 - val_accuracy: 0.4427\n",
            "Epoch 6/20\n",
            "263/263 [==============================] - 1s 4ms/step - loss: 1.5946 - accuracy: 0.4629 - val_loss: 1.5464 - val_accuracy: 0.4857\n",
            "Epoch 7/20\n",
            "263/263 [==============================] - 1s 4ms/step - loss: 1.5175 - accuracy: 0.4941 - val_loss: 1.5090 - val_accuracy: 0.4979\n",
            "Epoch 8/20\n",
            "263/263 [==============================] - 1s 4ms/step - loss: 1.4536 - accuracy: 0.5185 - val_loss: 1.4151 - val_accuracy: 0.5376\n",
            "Epoch 9/20\n",
            "263/263 [==============================] - 1s 5ms/step - loss: 1.4040 - accuracy: 0.5407 - val_loss: 1.3873 - val_accuracy: 0.5474\n",
            "Epoch 10/20\n",
            "263/263 [==============================] - 1s 6ms/step - loss: 1.3676 - accuracy: 0.5537 - val_loss: 1.3481 - val_accuracy: 0.5687\n",
            "Epoch 11/20\n",
            "263/263 [==============================] - 2s 6ms/step - loss: 1.3443 - accuracy: 0.5624 - val_loss: 1.3295 - val_accuracy: 0.5713\n",
            "Epoch 12/20\n",
            "263/263 [==============================] - 1s 4ms/step - loss: 1.3253 - accuracy: 0.5676 - val_loss: 1.3168 - val_accuracy: 0.5727\n",
            "Epoch 13/20\n",
            "263/263 [==============================] - 1s 4ms/step - loss: 1.3049 - accuracy: 0.5742 - val_loss: 1.2980 - val_accuracy: 0.5779\n",
            "Epoch 14/20\n",
            "263/263 [==============================] - 1s 4ms/step - loss: 1.2917 - accuracy: 0.5785 - val_loss: 1.3109 - val_accuracy: 0.5737\n",
            "Epoch 15/20\n",
            "263/263 [==============================] - 1s 4ms/step - loss: 1.2774 - accuracy: 0.5844 - val_loss: 1.2992 - val_accuracy: 0.5843\n",
            "Epoch 16/20\n",
            "263/263 [==============================] - 1s 4ms/step - loss: 1.2680 - accuracy: 0.5904 - val_loss: 1.2595 - val_accuracy: 0.5975\n",
            "Epoch 17/20\n",
            "263/263 [==============================] - 1s 4ms/step - loss: 1.2575 - accuracy: 0.5935 - val_loss: 1.2456 - val_accuracy: 0.6056\n",
            "Epoch 18/20\n",
            "263/263 [==============================] - 1s 4ms/step - loss: 1.2453 - accuracy: 0.5978 - val_loss: 1.2487 - val_accuracy: 0.6020\n",
            "Epoch 19/20\n",
            "263/263 [==============================] - 1s 4ms/step - loss: 1.2383 - accuracy: 0.6004 - val_loss: 1.2518 - val_accuracy: 0.5967\n",
            "Epoch 20/20\n",
            "263/263 [==============================] - 1s 4ms/step - loss: 1.2335 - accuracy: 0.6038 - val_loss: 1.2362 - val_accuracy: 0.6111\n"
          ]
        }
      ],
      "source": [
        "# Fit on the train data with a validation split of 0.2, batch size = 128, verbose = 1, and epochs = 20.\n",
        "# Store the model building history to use later for visualization\n",
        "# Epochs specifies the number of times the model will iterate over the entire training dataset duirng the trainign process\n",
        "# Shuffling the data can help in better generalization and prevent the model from memorizing the order of the data\n",
        "# Training data will be divided into batches of size 128. Model will update its weights after processing each batch\n",
        "# Verbose 1 means that progress updates will be printed to the console for each epoch. If it were zero, no progress updates will be printed\n",
        "\n",
        "history_nn1 = ann_model.fit(\n",
        "            X_train_normalized, y_train_encoded,\n",
        "            epochs=20,\n",
        "            validation_split=0.2,\n",
        "            shuffle=True,\n",
        "            batch_size=128,\n",
        "            verbose=1\n",
        ")"
      ]
    },
    {
      "cell_type": "markdown",
      "metadata": {
        "id": "MeF8XSWz0XIU"
      },
      "source": [
        "### **Plot the Training and Validation Accuracies and write down your Observations.**"
      ]
    },
    {
      "cell_type": "code",
      "execution_count": 282,
      "metadata": {
        "colab": {
          "base_uri": "https://localhost:8080/",
          "height": 472
        },
        "id": "lt77zgGMP4yw",
        "outputId": "f986a7a4-b014-4fcb-f33a-0a0f9f73a9a5"
      },
      "outputs": [
        {
          "data": {
            "image/png": "[encoded data removed]",
            "text/plain": [
              "<Figure size 640x480 with 1 Axes>"
            ]
          },
          "metadata": {},
          "output_type": "display_data"
        }
      ],
      "source": [
        "# Plotting the accuracies\n",
        "plt.plot(history_nn1.history['accuracy'])\n",
        "\n",
        "plt.plot(history_nn1.history['val_accuracy'])\n",
        "plt.title('Model Accuracy')\n",
        "plt.ylabel('Accuracy')\n",
        "plt.xlabel('Epoch')\n",
        "plt.legend(['Train', 'Validation'], loc='upper left')\n",
        "plt.show()"
      ]
    },
    {
      "cell_type": "markdown",
      "metadata": {
        "id": "C2GwCxs_JD0e"
      },
      "source": [
        "I can see from the above plot that the model has not perform very well on the train and validation data with an accuracy of approximately 60%"
      ]
    },
    {
      "cell_type": "code",
      "execution_count": 283,
      "metadata": {
        "colab": {
          "base_uri": "https://localhost:8080/"
        },
        "id": "TlO23HEgI_rt",
        "outputId": "926ba758-ceff-43e8-ffa7-7010cb976da4"
      },
      "outputs": [
        {
          "name": "stdout",
          "output_type": "stream",
          "text": [
            "563/563 - 1s - loss: 1.2187 - accuracy: 0.6079 - 1s/epoch - 2ms/step\n"
          ]
        }
      ],
      "source": [
        "# Evaluating the model on the test data\n",
        "accuracy_nn1 = ann_model.evaluate(X_test_normalized, y_test_encoded, verbose=2)\n"
      ]
    },
    {
      "cell_type": "markdown",
      "metadata": {
        "id": "hw6V1xew9M6P"
      },
      "source": [
        "I see in the above output that it took 2 seconds to process one epoch. After processing all batches, we got a loss score of 1.22. The model correctly predicted 60.79% of the training samples. It took approximately 1 seconds on average to process one epoch. It took 2 milliseconds to process one mini-batch."
      ]
    },
    {
      "cell_type": "code",
      "execution_count": 284,
      "metadata": {
        "colab": {
          "base_uri": "https://localhost:8080/"
        },
        "id": "FF66loYiI_yi",
        "outputId": "d166449c-8e39-4b7a-9a31-c603d4045bbe"
      },
      "outputs": [
        {
          "name": "stdout",
          "output_type": "stream",
          "text": [
            "563/563 [==============================] - 1s 1ms/step\n"
          ]
        }
      ],
      "source": [
        "# Generating the Predictions using the test data\n",
        "y_pred_nn1=ann_model.predict(X_test_normalized)\n",
        "\n",
        "# Convert raw model predictions of y_pred into class labels for multi-class classification\n",
        "y_pred_nn1_arg=np.argmax(y_pred_nn1,axis=-1)"
      ]
    },
    {
      "cell_type": "code",
      "execution_count": 285,
      "metadata": {
        "colab": {
          "base_uri": "https://localhost:8080/",
          "height": 676
        },
        "id": "dxnZRhVNKHvq",
        "outputId": "75bdbbfd-684e-435b-d18e-01bcfff9c8ab"
      },
      "outputs": [
        {
          "data": {
            "image/png": "[encoded data removed]",
            "text/plain": [
              "<Figure size 1000x800 with 2 Axes>"
            ]
          },
          "metadata": {},
          "output_type": "display_data"
        }
      ],
      "source": [
        "# Convert y_test into a single label\n",
        "y_test_nn1_arg=np.argmax(y_test_encoded,axis=-1)\n",
        "\n",
        "\n",
        "# Plotting the Confusion Matrix using confusion matrix() function which is also predefined tensorflow module\n",
        "confusion_matrix = tf.math.confusion_matrix(y_test_nn1_arg,y_pred_nn1_arg)\n",
        "f, ax = plt.subplots(figsize=(10, 8))\n",
        "sns.heatmap(\n",
        "    confusion_matrix,\n",
        "    annot=True,\n",
        "    linewidths=.4,\n",
        "    fmt=\"d\",\n",
        "    square=True,\n",
        "    ax=ax\n",
        ")\n",
        "plt.show()\n"
      ]
    },
    {
      "cell_type": "markdown",
      "metadata": {
        "id": "_TveixtT5pmC"
      },
      "source": [
        "Looking at digit 8, we can see that 819 times we predicted that a digit was 8 and it was actually 8.\n",
        "There were 65 times when the number 3 was identified as the number 8."
      ]
    },
    {
      "cell_type": "markdown",
      "metadata": {
        "id": "z0qgLMBZm5-K"
      },
      "source": [
        "Let's build one more model with higher complexity and see if we can improve the performance of the model.\n",
        "\n",
        "First, we need to clear the previous model's history from the Keras backend. Also, let's fix the seed again after clearing the backend."
      ]
    },
    {
      "cell_type": "code",
      "execution_count": 286,
      "metadata": {
        "id": "I_ih3wEU9wIk"
      },
      "outputs": [],
      "source": [
        "# Clearing backend\n",
        "from tensorflow.keras import backend\n",
        "backend.clear_session()\n",
        "\n",
        "# Fixing the seed for random number generators\n",
        "import random\n",
        "np.random.seed(42)\n",
        "random.seed(42)\n",
        "tf.random.set_seed(42)"
      ]
    },
    {
      "cell_type": "markdown",
      "metadata": {
        "id": "lT6o3TIKuCtk"
      },
      "source": [
        "### **Second Model Architecture**\n",
        "- Write a function that returns a sequential model with the following architecture:\n",
        " - First hidden layer with **256 nodes and the relu activation** and the **input shape = (1024, )**\n",
        " - Second hidden layer with **128 nodes and the relu activation**\n",
        " - Add the **Dropout layer with the rate equal to 0.2**\n",
        " - Third hidden layer with **64 nodes and the relu activation**\n",
        " - Fourth hidden layer with **64 nodes and the relu activation**\n",
        " - Fifth hidden layer with **32 nodes and the relu activation**\n",
        " - Add the **BatchNormalization layer**\n",
        " - Output layer with **activation as 'softmax' and number of nodes equal to the number of classes, i.e., 10**\n",
        " -Compile the model with the **loss equal to categorical_crossentropy, optimizer equal to Adam(learning_rate = 0.0005), and metric equal to 'accuracy'**. Do not fit the model here, just return the compiled model.\n",
        "- Call the nn_model_2 function and store the model in a new variable.\n",
        "- Print the summary of the model.\n",
        "- Fit on the train data with a **validation split of 0.2, batch size = 128, verbose = 1, and epochs = 30**. Store the model building history to use later for visualization."
      ]
    },
    {
      "cell_type": "markdown",
      "metadata": {
        "id": "f-ZjNBmH0XIV"
      },
      "source": [
        "### **Build and train the new ANN model as per the above mentioned architecture**"
      ]
    },
    {
      "cell_type": "code",
      "execution_count": 287,
      "metadata": {
        "id": "EEPYLFIPnSDP"
      },
      "outputs": [],
      "source": [
        "def nn_model_2():\n",
        "  # Intializing a sequential model\n",
        "  ann_model = Sequential()\n",
        "\n",
        "  # First hidden layer with 256 nodes and the relu activation and the input shape = (1024, )\n",
        "  ann_model.add(Dense(256, activation='relu', input_shape=(1024, )))\n",
        "\n",
        "  # Second hidden layer with 128 nodes and the relu activation\n",
        "  ann_model.add(Dense(128, activation='relu'))\n",
        "\n",
        "  # Dropout layer with rate 0.2\n",
        "  # This is a regularization technique that prevents overfitting of the neural network\n",
        "  # This randomly sets a fraction of input units to zero during training. In other words, it drops a fraction of the neurons out temporarly\n",
        "  ann_model.add(Dropout(0.2))\n",
        "\n",
        "  # Third hidden layer with 64 nodes and the relu activation\n",
        "  ann_model.add(Dense(64, activation='relu'))\n",
        "\n",
        "  # Four hidden layer with 64 nodes and the relu activation\n",
        "  ann_model.add(Dense(64, activation='relu'))\n",
        "\n",
        "  # Fifth hidden layer with 32 nodes and the relu activation\n",
        "  ann_model.add(Dense(32, activation='relu'))\n",
        "\n",
        "  # Batch Normalization layer\n",
        "  # This is a technique to normalize the input of a layer during training\n",
        "  # This improves the generalization performance on validation data\n",
        "  ann_model.add(BatchNormalization())\n",
        "\n",
        "  # Output layer with activation as 'softmax' and number of nodes equal to the number of classes, i.e., 10\n",
        "  ann_model.add(Dense(10, activation='softmax'))\n",
        "\n",
        "  # Using Adam Optimizer\n",
        "  opt = Adam(learning_rate=0.0005)\n",
        "\n",
        "  # Compile the model with the loss equal to categorical_crossentropy, optimizer equal to Adam(learning_rate = 0.001), and metric equal to 'accuracy'.\n",
        "  ann_model.compile(optimizer=opt,\n",
        "                loss='categorical_crossentropy',\n",
        "                metrics=['accuracy'])\n",
        "\n",
        "  return ann_model"
      ]
    },
    {
      "cell_type": "code",
      "execution_count": 288,
      "metadata": {
        "colab": {
          "base_uri": "https://localhost:8080/"
        },
        "id": "PIRUkZLvNmrV",
        "outputId": "f830670e-17bf-46e0-80a7-0418e0fc0bfd"
      },
      "outputs": [
        {
          "name": "stdout",
          "output_type": "stream",
          "text": [
            "Model: \"sequential\"\n",
            "_________________________________________________________________\n",
            " Layer (type)                Output Shape              Param #   \n",
            "=================================================================\n",
            " dense (Dense)               (None, 256)               262400    \n",
            "                                                                 \n",
            " dense_1 (Dense)             (None, 128)               32896     \n",
            "                                                                 \n",
            " dropout (Dropout)           (None, 128)               0         \n",
            "                                                                 \n",
            " dense_2 (Dense)             (None, 64)                8256      \n",
            "                                                                 \n",
            " dense_3 (Dense)             (None, 64)                4160      \n",
            "                                                                 \n",
            " dense_4 (Dense)             (None, 32)                2080      \n",
            "                                                                 \n",
            " batch_normalization (BatchN  (None, 32)               128       \n",
            " ormalization)                                                   \n",
            "                                                                 \n",
            " dense_5 (Dense)             (None, 10)                330       \n",
            "                                                                 \n",
            "=================================================================\n",
            "Total params: 310,250\n",
            "Trainable params: 310,186\n",
            "Non-trainable params: 64\n",
            "_________________________________________________________________\n"
          ]
        }
      ],
      "source": [
        "  # Call the nn_model_2 function and store the model in a new variable\n",
        "  ann_model_2 = nn_model_2()\n",
        "\n",
        "  # Generating the summary of the model\n",
        "  ann_model_2.summary()"
      ]
    },
    {
      "cell_type": "code",
      "execution_count": 289,
      "metadata": {
        "colab": {
          "base_uri": "https://localhost:8080/"
        },
        "id": "SoG4D4E9Nmtq",
        "outputId": "515f278a-ff21-4e96-e6bc-55c608183eca"
      },
      "outputs": [
        {
          "name": "stdout",
          "output_type": "stream",
          "text": [
            "Epoch 1/30\n",
            "263/263 [==============================] - 5s 9ms/step - loss: 2.3277 - accuracy: 0.0990 - val_loss: 2.3063 - val_accuracy: 0.0963\n",
            "Epoch 2/30\n",
            "263/263 [==============================] - 2s 6ms/step - loss: 2.3035 - accuracy: 0.1054 - val_loss: 2.3001 - val_accuracy: 0.1010\n",
            "Epoch 3/30\n",
            "263/263 [==============================] - 1s 6ms/step - loss: 2.1078 - accuracy: 0.2062 - val_loss: 1.9858 - val_accuracy: 0.3435\n",
            "Epoch 4/30\n",
            "263/263 [==============================] - 1s 5ms/step - loss: 1.5957 - accuracy: 0.4546 - val_loss: 1.4567 - val_accuracy: 0.5404\n",
            "Epoch 5/30\n",
            "263/263 [==============================] - 1s 5ms/step - loss: 1.3227 - accuracy: 0.5655 - val_loss: 1.1644 - val_accuracy: 0.6355\n",
            "Epoch 6/30\n",
            "263/263 [==============================] - 1s 6ms/step - loss: 1.1863 - accuracy: 0.6212 - val_loss: 1.1234 - val_accuracy: 0.6451\n",
            "Epoch 7/30\n",
            "263/263 [==============================] - 1s 5ms/step - loss: 1.1031 - accuracy: 0.6512 - val_loss: 1.0245 - val_accuracy: 0.6768\n",
            "Epoch 8/30\n",
            "263/263 [==============================] - 1s 5ms/step - loss: 1.0424 - accuracy: 0.6686 - val_loss: 0.9714 - val_accuracy: 0.6956\n",
            "Epoch 9/30\n",
            "263/263 [==============================] - 2s 7ms/step - loss: 1.0149 - accuracy: 0.6788 - val_loss: 0.9608 - val_accuracy: 0.6969\n",
            "Epoch 10/30\n",
            "263/263 [==============================] - 2s 8ms/step - loss: 0.9905 - accuracy: 0.6844 - val_loss: 0.9675 - val_accuracy: 0.6932\n",
            "Epoch 11/30\n",
            "263/263 [==============================] - 2s 6ms/step - loss: 0.9628 - accuracy: 0.6950 - val_loss: 0.8755 - val_accuracy: 0.7224\n",
            "Epoch 12/30\n",
            "263/263 [==============================] - 2s 6ms/step - loss: 0.9234 - accuracy: 0.7081 - val_loss: 0.8589 - val_accuracy: 0.7282\n",
            "Epoch 13/30\n",
            "263/263 [==============================] - 1s 5ms/step - loss: 0.9109 - accuracy: 0.7106 - val_loss: 0.8910 - val_accuracy: 0.7164\n",
            "Epoch 14/30\n",
            "263/263 [==============================] - 1s 6ms/step - loss: 0.8950 - accuracy: 0.7174 - val_loss: 0.8208 - val_accuracy: 0.7408\n",
            "Epoch 15/30\n",
            "263/263 [==============================] - 2s 6ms/step - loss: 0.8747 - accuracy: 0.7226 - val_loss: 0.9027 - val_accuracy: 0.7173\n",
            "Epoch 16/30\n",
            "263/263 [==============================] - 2s 6ms/step - loss: 0.8460 - accuracy: 0.7327 - val_loss: 0.8012 - val_accuracy: 0.7436\n",
            "Epoch 17/30\n",
            "263/263 [==============================] - 2s 6ms/step - loss: 0.8236 - accuracy: 0.7395 - val_loss: 0.7981 - val_accuracy: 0.7500\n",
            "Epoch 18/30\n",
            "263/263 [==============================] - 2s 8ms/step - loss: 0.8198 - accuracy: 0.7402 - val_loss: 0.7844 - val_accuracy: 0.7530\n",
            "Epoch 19/30\n",
            "263/263 [==============================] - 2s 6ms/step - loss: 0.8141 - accuracy: 0.7404 - val_loss: 0.8223 - val_accuracy: 0.7392\n",
            "Epoch 20/30\n",
            "263/263 [==============================] - 1s 6ms/step - loss: 0.8020 - accuracy: 0.7438 - val_loss: 0.7608 - val_accuracy: 0.7669\n",
            "Epoch 21/30\n",
            "263/263 [==============================] - 1s 6ms/step - loss: 0.7844 - accuracy: 0.7514 - val_loss: 0.7798 - val_accuracy: 0.7549\n",
            "Epoch 22/30\n",
            "263/263 [==============================] - 2s 6ms/step - loss: 0.7870 - accuracy: 0.7525 - val_loss: 0.7868 - val_accuracy: 0.7519\n",
            "Epoch 23/30\n",
            "263/263 [==============================] - 2s 6ms/step - loss: 0.7610 - accuracy: 0.7584 - val_loss: 0.7890 - val_accuracy: 0.7546\n",
            "Epoch 24/30\n",
            "263/263 [==============================] - 1s 5ms/step - loss: 0.7620 - accuracy: 0.7582 - val_loss: 0.7359 - val_accuracy: 0.7696\n",
            "Epoch 25/30\n",
            "263/263 [==============================] - 2s 6ms/step - loss: 0.7441 - accuracy: 0.7632 - val_loss: 0.7032 - val_accuracy: 0.7843\n",
            "Epoch 26/30\n",
            "263/263 [==============================] - 2s 8ms/step - loss: 0.7443 - accuracy: 0.7649 - val_loss: 0.7447 - val_accuracy: 0.7654\n",
            "Epoch 27/30\n",
            "263/263 [==============================] - 2s 8ms/step - loss: 0.7323 - accuracy: 0.7677 - val_loss: 0.7518 - val_accuracy: 0.7645\n",
            "Epoch 28/30\n",
            "263/263 [==============================] - 1s 6ms/step - loss: 0.7345 - accuracy: 0.7657 - val_loss: 0.7090 - val_accuracy: 0.7793\n",
            "Epoch 29/30\n",
            "263/263 [==============================] - 1s 5ms/step - loss: 0.7388 - accuracy: 0.7642 - val_loss: 0.7429 - val_accuracy: 0.7649\n",
            "Epoch 30/30\n",
            "263/263 [==============================] - 1s 5ms/step - loss: 0.7236 - accuracy: 0.7713 - val_loss: 0.7075 - val_accuracy: 0.7821\n"
          ]
        }
      ],
      "source": [
        "# Fit on the train data with a validation split of 0.2, batch size = 128, verbose = 1, and epochs = 30.\n",
        "# Store the model building history to use later for visualization\n",
        "\n",
        "history_nn2 = ann_model_2.fit(\n",
        "            X_train_normalized, y_train_encoded,\n",
        "            epochs=30,\n",
        "            validation_split=0.2,\n",
        "            shuffle=True,\n",
        "            batch_size=128,\n",
        "            verbose=1\n",
        ")\n"
      ]
    },
    {
      "cell_type": "markdown",
      "metadata": {
        "id": "ZJYsvjmw0XIX"
      },
      "source": [
        "### **Plot the Training and Validation Accuracies and write down your Observations.**"
      ]
    },
    {
      "cell_type": "code",
      "execution_count": 290,
      "metadata": {
        "colab": {
          "base_uri": "https://localhost:8080/",
          "height": 472
        },
        "id": "01ig6BrF1KVy",
        "outputId": "13ad65bc-7e5b-4bc8-cb03-fb493a3cc7cd"
      },
      "outputs": [
        {
          "data": {
            "image/png": "[encoded data removed]",
            "text/plain": [
              "<Figure size 640x480 with 1 Axes>"
            ]
          },
          "metadata": {},
          "output_type": "display_data"
        }
      ],
      "source": [
        "# Plot accuracies\n",
        "plt.plot(history_nn2.history['accuracy'])\n",
        "plt.plot(history_nn2.history['val_accuracy'])\n",
        "plt.title('Model Accuracy')\n",
        "plt.ylabel('Accuracy')\n",
        "plt.xlabel('Epoch')\n",
        "plt.legend(['Train', 'Validation'], loc='upper left')\n",
        "plt.show()"
      ]
    },
    {
      "cell_type": "markdown",
      "metadata": {
        "id": "VPW1LlD61RDn"
      },
      "source": [
        "**Observations:**\n"
      ]
    },
    {
      "cell_type": "markdown",
      "metadata": {
        "id": "943w4h07P1D4"
      },
      "source": [
        "I can see from the above plot that the model performs relatively well on the train and validation data with an accuracy of approximately 80%"
      ]
    },
    {
      "cell_type": "markdown",
      "metadata": {
        "id": "8kuXx9Bvu00f"
      },
      "source": [
        "## **Predictions on the test data**\n",
        "\n",
        "- Make predictions on the test set using the second model.\n",
        "- Print the obtained results using the classification report and the confusion matrix.\n",
        "- Final observations on the obtained results."
      ]
    },
    {
      "cell_type": "code",
      "execution_count": 291,
      "metadata": {
        "colab": {
          "base_uri": "https://localhost:8080/"
        },
        "id": "xbWMEtTj5Ad0",
        "outputId": "eb8052e1-c1d8-4edd-c610-7fefb745e2cb"
      },
      "outputs": [
        {
          "name": "stdout",
          "output_type": "stream",
          "text": [
            "563/563 - 1s - loss: 0.7205 - accuracy: 0.7769 - 1s/epoch - 2ms/step\n"
          ]
        }
      ],
      "source": [
        "# Evaluating the model on the test data\n",
        "accuracy_nn2 = ann_model_2.evaluate(X_test_normalized, y_test_encoded, verbose=2)\n"
      ]
    },
    {
      "cell_type": "markdown",
      "metadata": {
        "id": "jaojExvo_qQl"
      },
      "source": [
        "In the above output, I see that\n",
        "I see in the above output that it took 1 second to process one epoch. After processing all batches, we got a loss score of 0.72. The model correctly predicted 77.69% of the training samples. It took approximately 1 seconds on average to process one epoch. It took 2 milliseconds to process one mini-batch."
      ]
    },
    {
      "cell_type": "code",
      "execution_count": 292,
      "metadata": {
        "colab": {
          "base_uri": "https://localhost:8080/"
        },
        "id": "rMAls0OMQVxH",
        "outputId": "0de3bbd6-67ef-4ee4-f8e7-85b35b80a6da"
      },
      "outputs": [
        {
          "name": "stdout",
          "output_type": "stream",
          "text": [
            "563/563 [==============================] - 1s 2ms/step\n"
          ]
        }
      ],
      "source": [
        "# Generating the Predictions using the test data\n",
        "y_pred_nn2 = ann_model_2.predict(X_test_normalized)\n",
        "\n",
        "# Convert raw model predictions of y_pred into class lables for multi-class classification\n",
        "# When setting axis=-1, argmax() operation is applied along the last dimension of the y_pred array, which corresponds to classes\n",
        "# argmax function  is used to find the index of the maximum value in a given array in a given specified access\n",
        "y_pred_nn2_arg = np.argmax(y_pred_nn2, axis=-1)"
      ]
    },
    {
      "cell_type": "markdown",
      "metadata": {
        "id": "i3li8Ib08yts"
      },
      "source": [
        "**Note:** Earlier, we noticed that each entry of the target variable is a one-hot encoded vector but to print the classification report and confusion matrix, we must convert each entry of y_test to a single label."
      ]
    },
    {
      "cell_type": "code",
      "execution_count": 293,
      "metadata": {
        "id": "NByu7uAQ8x9P"
      },
      "outputs": [],
      "source": [
        "# Convert y_test into a single label\n",
        "y_test_nn2_arg=np.argmax(y_test_encoded,axis=-1)"
      ]
    },
    {
      "cell_type": "markdown",
      "metadata": {
        "id": "1_SIoopr0XIg"
      },
      "source": [
        "### **Print the classification report and the confusion matrix for the test predictions. Write your observations on the final results.**"
      ]
    },
    {
      "cell_type": "code",
      "execution_count": 294,
      "metadata": {
        "colab": {
          "base_uri": "https://localhost:8080/",
          "height": 676
        },
        "id": "xRddeJ-3EHT1",
        "outputId": "5671e4f6-24d1-4087-fc59-6e9bce20ab33"
      },
      "outputs": [
        {
          "data": {
            "image/png": "[encoded data removed]",
            "text/plain": [
              "<Figure size 1000x800 with 2 Axes>"
            ]
          },
          "metadata": {},
          "output_type": "display_data"
        }
      ],
      "source": [
        "# Plotting the Confusion Matrix using confusion matrix() function which is also predefined tensorflow module\n",
        "confusion_matrix = tf.math.confusion_matrix(y_test_nn2_arg,y_pred_nn2_arg)\n",
        "f, ax = plt.subplots(figsize=(10, 8))\n",
        "sns.heatmap(\n",
        "    confusion_matrix,\n",
        "    annot=True,\n",
        "    linewidths=.4,\n",
        "    fmt=\"d\",\n",
        "    square=True,\n",
        "    ax=ax\n",
        ")\n",
        "plt.show()"
      ]
    },
    {
      "cell_type": "markdown",
      "metadata": {
        "id": "__K13GnYQqHt"
      },
      "source": [
        "In the above plot, I see that the digit 8 was accurately predicted 1367 times. There were 78 times when the number 3 was identified as the number 8."
      ]
    },
    {
      "cell_type": "markdown",
      "metadata": {
        "id": "DjErl4GA2u9s"
      },
      "source": [
        "**Final Observations:**"
      ]
    },
    {
      "cell_type": "markdown",
      "metadata": {
        "id": "-eHFuAYwzuk-"
      },
      "source": [
        "The total number of trainable parameters in the ANN model 1 were: 68,010\n",
        "\n",
        "The total number of trainable parameters in the ANN model 2 were: 310,186\n",
        "\n",
        "The first model is less complex than the second model because it has a lower number of trainable parameters.\n",
        "\n",
        "The second ann model has more nodes than the first ann model. The second ann model has three more dense layers than the first model. While the second model has a dropout layer and a batch normalization layer, the first model doesn't have either. The second model has a smaller learning rate than the first model.\n",
        "\n",
        "The second model has a higher accuracy, 77.69%, than the first model, 60.79%. The second model has a smaller loss score, 0.72, than the first model, 1.22. Both models took 1 second to process one epoch on average.\n",
        "\n",
        "Among these two models, I would choose the ANN model 2 because it has a higher accuracy and a smaller loss score than the first model while having the same epoch processing time as the first model."
      ]
    },
    {
      "cell_type": "markdown",
      "metadata": {
        "id": "xkR4JioMsuIV"
      },
      "source": [
        "## **Using Convolutional Neural Networks**"
      ]
    },
    {
      "cell_type": "markdown",
      "metadata": {
        "id": "YN2YgkGL_6xQ"
      },
      "source": [
        "### **Load the dataset again and split the data into the train and the test dataset.**"
      ]
    },
    {
      "cell_type": "code",
      "execution_count": 295,
      "metadata": {
        "id": "mqM204HbAjP2",
        "scrolled": true
      },
      "outputs": [],
      "source": [
        "# Clearing backend\n",
        "from tensorflow.keras import backend\n",
        "backend.clear_session()"
      ]
    },
    {
      "cell_type": "code",
      "execution_count": 296,
      "metadata": {
        "id": "UETmkD5qUWJZ"
      },
      "outputs": [],
      "source": [
        "import h5py"
      ]
    },
    {
      "cell_type": "code",
      "execution_count": 297,
      "metadata": {
        "id": "mAk34HR4UWMa"
      },
      "outputs": [],
      "source": [
        "# Define path for .h5 file\n",
        "path = '/content/drive/MyDrive/Colab_Notebooks/SVHN_single_grey1.h5'\n",
        "\n",
        "#The data is provided as a h5 file so we need to extract the dataset\n",
        "file = h5py.File(path, 'r')"
      ]
    },
    {
      "cell_type": "code",
      "execution_count": 298,
      "metadata": {
        "id": "OQVDVgBxUWPL"
      },
      "outputs": [],
      "source": [
        "# Split into train and test\n",
        "X_test = np.array(file['X_test'])\n",
        "y_test = np.array(file['y_test'])\n",
        "X_train = np.array(file['X_train'])\n",
        "y_train = np.array(file['y_train'])"
      ]
    },
    {
      "cell_type": "markdown",
      "metadata": {
        "id": "6fPqF_xGAjQB"
      },
      "source": [
        "Check the number of images in the training and the testing dataset."
      ]
    },
    {
      "cell_type": "code",
      "execution_count": 299,
      "metadata": {
        "colab": {
          "base_uri": "https://localhost:8080/"
        },
        "id": "gTLJZWjPAjQB",
        "outputId": "a47c93c6-e506-419c-addf-bb8460d6e0e9"
      },
      "outputs": [
        {
          "data": {
            "text/plain": [
              "(42000, 32, 32)"
            ]
          },
          "execution_count": 299,
          "metadata": {},
          "output_type": "execute_result"
        }
      ],
      "source": [
        "# Display shape of X_train\n",
        "X_train.shape"
      ]
    },
    {
      "cell_type": "code",
      "execution_count": 300,
      "metadata": {
        "colab": {
          "base_uri": "https://localhost:8080/"
        },
        "id": "-ih1zmznWgWO",
        "outputId": "ac8f7ec5-205e-47fa-84bd-74d74e192542"
      },
      "outputs": [
        {
          "data": {
            "text/plain": [
              "(42000,)"
            ]
          },
          "execution_count": 300,
          "metadata": {},
          "output_type": "execute_result"
        }
      ],
      "source": [
        "# Display shape of y_train\n",
        "y_train.shape"
      ]
    },
    {
      "cell_type": "code",
      "execution_count": 301,
      "metadata": {
        "colab": {
          "base_uri": "https://localhost:8080/"
        },
        "id": "mDK6bwFaWgYo",
        "outputId": "6206676b-7733-4327-f76b-ad17ba202f79"
      },
      "outputs": [
        {
          "data": {
            "text/plain": [
              "(18000, 32, 32)"
            ]
          },
          "execution_count": 301,
          "metadata": {},
          "output_type": "execute_result"
        }
      ],
      "source": [
        "# Display shape of X_test\n",
        "X_test.shape"
      ]
    },
    {
      "cell_type": "code",
      "execution_count": 302,
      "metadata": {
        "colab": {
          "base_uri": "https://localhost:8080/"
        },
        "id": "u6jc1Vb3WgcK",
        "outputId": "4cd6968d-2d01-4899-b83e-ff8f9e1c9aea"
      },
      "outputs": [
        {
          "data": {
            "text/plain": [
              "(18000,)"
            ]
          },
          "execution_count": 302,
          "metadata": {},
          "output_type": "execute_result"
        }
      ],
      "source": [
        "# Diplay shape of y_test\n",
        "y_test.shape"
      ]
    },
    {
      "cell_type": "markdown",
      "metadata": {
        "id": "9qyMiP_rAjQB"
      },
      "source": [
        "**Observation:**\n",
        "I see that train data has a total of 42000 images. The x_train data has images with 32x32 pixels.\n",
        "The test data has a total of 18000 images. The x_test data has images with 32x32 pixels."
      ]
    },
    {
      "cell_type": "markdown",
      "metadata": {
        "id": "OJndFfEVAjQG"
      },
      "source": [
        "## **Data preparation**\n",
        "\n",
        "- Print the shape and the array of pixels for the first image in the training dataset.\n",
        "- Reshape the train and the test dataset because we always have to give a 4D array as input to CNNs.\n",
        "- Normalize the train and the test dataset by dividing by 255.\n",
        "- Print the new shapes of the train and the test dataset.\n",
        "- One-hot encode the target variable."
      ]
    },
    {
      "cell_type": "code",
      "execution_count": 303,
      "metadata": {
        "colab": {
          "base_uri": "https://localhost:8080/"
        },
        "id": "W4uXqKz1AjQG",
        "outputId": "2d1b8081-f65b-4e76-bfd3-7f0233a1f700"
      },
      "outputs": [
        {
          "data": {
            "text/plain": [
              "array([[ 33.0704,  30.2601,  26.852 , ...,  71.4471,  58.2204,  42.9939],\n",
              "       [ 25.2283,  25.5533,  29.9765, ..., 113.0209, 103.3639,  84.2949],\n",
              "       [ 26.2775,  22.6137,  40.4763, ..., 113.3028, 121.775 , 115.4228],\n",
              "       ...,\n",
              "       [ 28.5502,  36.212 ,  45.0801, ...,  24.1359,  25.0927,  26.0603],\n",
              "       [ 38.4352,  26.4733,  23.2717, ...,  28.1094,  29.4683,  30.0661],\n",
              "       [ 50.2984,  26.0773,  24.0389, ...,  49.6682,  50.853 ,  53.0377]],\n",
              "      dtype=float32)"
            ]
          },
          "execution_count": 303,
          "metadata": {},
          "output_type": "execute_result"
        }
      ],
      "source": [
        "X_train[0]"
      ]
    },
    {
      "cell_type": "code",
      "execution_count": 304,
      "metadata": {
        "colab": {
          "base_uri": "https://localhost:8080/"
        },
        "id": "TvHNJ9wsW8El",
        "outputId": "ee1cd41c-f12b-4f60-fd38-baac6c8b0190"
      },
      "outputs": [
        {
          "data": {
            "text/plain": [
              "2"
            ]
          },
          "execution_count": 304,
          "metadata": {},
          "output_type": "execute_result"
        }
      ],
      "source": [
        "y_train[0]"
      ]
    },
    {
      "cell_type": "markdown",
      "metadata": {
        "id": "at30iiX1__7F"
      },
      "source": [
        "Reshape the dataset to be able to pass them to CNNs. Remember that we always have to give a 4D array as input to CNNs"
      ]
    },
    {
      "cell_type": "code",
      "execution_count": 305,
      "metadata": {
        "id": "D9YPwf9ysqWU"
      },
      "outputs": [],
      "source": [
        "# Reshape dataset to have a single channel - when we have grey scale. If we had three colors, we would have three channels\n",
        "X_train = X_train.reshape((X_train.shape[0], 32, 32, 1))\n",
        "X_test = X_test.reshape((X_test.shape[0], 32, 32, 1))"
      ]
    },
    {
      "cell_type": "markdown",
      "metadata": {
        "id": "ODYnoLfaAEGx"
      },
      "source": [
        "Normalize inputs from 0-255 to 0-1"
      ]
    },
    {
      "cell_type": "code",
      "execution_count": 306,
      "metadata": {
        "id": "eOGLAn40AjQG"
      },
      "outputs": [],
      "source": [
        "# Normalizing the image pixels\n",
        "X_train_normalized = X_train.astype('float32')/255.0\n",
        "X_test_normalized = X_test.astype('float32')/255.0"
      ]
    },
    {
      "cell_type": "markdown",
      "metadata": {
        "id": "cS9T4HqjAoyM"
      },
      "source": [
        "Print New shape of Training and Test"
      ]
    },
    {
      "cell_type": "code",
      "execution_count": 307,
      "metadata": {
        "colab": {
          "base_uri": "https://localhost:8080/"
        },
        "id": "5qf8S5NQAjQG",
        "outputId": "14b2337e-97dc-44b6-fb6c-37219dd08e34"
      },
      "outputs": [
        {
          "data": {
            "text/plain": [
              "(42000, 32, 32, 1)"
            ]
          },
          "execution_count": 307,
          "metadata": {},
          "output_type": "execute_result"
        }
      ],
      "source": [
        "# Print shape of normalized training set\n",
        "X_train_normalized.shape"
      ]
    },
    {
      "cell_type": "code",
      "execution_count": 308,
      "metadata": {
        "colab": {
          "base_uri": "https://localhost:8080/"
        },
        "id": "3TywlHvyYL9p",
        "outputId": "15dcc025-03dd-4da6-d94f-42a9dd4cca80"
      },
      "outputs": [
        {
          "data": {
            "text/plain": [
              "(18000, 32, 32, 1)"
            ]
          },
          "execution_count": 308,
          "metadata": {},
          "output_type": "execute_result"
        }
      ],
      "source": [
        "# Print shape of normalized testing set\n",
        "X_test_normalized.shape"
      ]
    },
    {
      "cell_type": "markdown",
      "metadata": {
        "id": "10QaOV-xR7Jn"
      },
      "source": [
        "\n",
        "### **One-hot encode the labels in the target variable y_train and y_test.**"
      ]
    },
    {
      "cell_type": "code",
      "execution_count": 309,
      "metadata": {
        "colab": {
          "base_uri": "https://localhost:8080/"
        },
        "id": "3KHWFWKMAjQH",
        "outputId": "ed81f164-0b0d-477a-f184-fbd2a026152b"
      },
      "outputs": [
        {
          "data": {
            "text/plain": [
              "(42000, 10)"
            ]
          },
          "execution_count": 309,
          "metadata": {},
          "output_type": "execute_result"
        }
      ],
      "source": [
        "# One-hot encode the labels in y_train\n",
        "y_train_encoded = tf.keras.utils.to_categorical(y_train)\n",
        "\n",
        "# Print shape encoded y_train\n",
        "y_train_encoded.shape"
      ]
    },
    {
      "cell_type": "code",
      "execution_count": 310,
      "metadata": {
        "colab": {
          "base_uri": "https://localhost:8080/"
        },
        "id": "XnAj6nGnYkY4",
        "outputId": "3195810d-044b-43f5-cd02-ae8bb5a04a14"
      },
      "outputs": [
        {
          "data": {
            "text/plain": [
              "(18000, 10)"
            ]
          },
          "execution_count": 310,
          "metadata": {},
          "output_type": "execute_result"
        }
      ],
      "source": [
        "# One-hot encode the labels in y_test\n",
        "y_test_encoded = tf.keras.utils.to_categorical(y_test)\n",
        "\n",
        "# Print shape encoded y_test\n",
        "y_test_encoded.shape"
      ]
    },
    {
      "cell_type": "markdown",
      "metadata": {
        "id": "H-8jYVQTAjQH"
      },
      "source": [
        "**Observation:**\n",
        "I see that target variable is a one-hot encoded vector"
      ]
    },
    {
      "cell_type": "markdown",
      "metadata": {
        "id": "Vjx_LI4_AjQH"
      },
      "source": [
        "## **Model Building**\n",
        "\n",
        "Now that we have done data preprocessing, let's build a CNN model.\n",
        "Fix the seed for random number generators"
      ]
    },
    {
      "cell_type": "code",
      "execution_count": 311,
      "metadata": {
        "id": "ZY5pyF4-KDNt"
      },
      "outputs": [],
      "source": [
        "# Fixing the seed for random number generators\n",
        "import random\n",
        "np.random.seed(42)\n",
        "random.seed(42)\n",
        "tf.random.set_seed(42)"
      ]
    },
    {
      "cell_type": "markdown",
      "metadata": {
        "id": "1JUAczhzAjQH"
      },
      "source": [
        "### **Model Architecture**\n",
        "- **Write a function** that returns a sequential model with the following architecture:\n",
        " - First Convolutional layer with **16 filters and the kernel size of 3x3**. Use the **'same' padding** and provide the **input shape = (32, 32, 1)**\n",
        " - Add a **LeakyRelu layer** with the **slope equal to 0.1**\n",
        " - Second Convolutional layer with **32 filters and the kernel size of 3x3 with 'same' padding**\n",
        " - Another **LeakyRelu** with the **slope equal to 0.1**\n",
        " - A **max-pooling layer** with a **pool size of 2x2**\n",
        " - **Flatten** the output from the previous layer\n",
        " - Add a **dense layer with 32 nodes**\n",
        " - Add a **LeakyRelu layer with the slope equal to 0.1**\n",
        " - Add the final **output layer with nodes equal to the number of classes, i.e., 10** and **'softmax' as the activation function**\n",
        " - Compile the model with the **loss equal to categorical_crossentropy, optimizer equal to Adam(learning_rate = 0.001), and metric equal to 'accuracy'**. Do not fit the model here, just return the compiled model.\n",
        "- Call the function cnn_model_1 and store the output in a new variable.\n",
        "- Print the summary of the model.\n",
        "- Fit the model on the training data with a **validation split of 0.2, batch size = 32, verbose = 1, and epochs = 20**. Store the model building history to use later for visualization."
      ]
    },
    {
      "cell_type": "markdown",
      "metadata": {
        "id": "JWsAd45JKDNu"
      },
      "source": [
        "### **Build and train a CNN model as per the above mentioned architecture.**"
      ]
    },
    {
      "cell_type": "code",
      "execution_count": 312,
      "metadata": {
        "id": "L1jOYANWAjQH"
      },
      "outputs": [],
      "source": [
        "def cnn_model_1():\n",
        "  # Intializing a sequential model\n",
        "  model = Sequential()\n",
        "\n",
        "  # Adding first conv layer with 64 filters and kernel size 3x3 , padding 'same' provides the output size same as the input size\n",
        "  # Conv2D layer performs a 2D convolutional operation on the input data.\n",
        "  # 2D convolutional layer is used to learn spatial patterns and features from images\n",
        "  # There are 16 filters in the convolutional layer. Each one will detect different patterns in the input data\n",
        "  # Padding is applied before the convolution operation. The same type of padding ensures the output feature map has the same spatial dimensions as the input.\n",
        "  # Padding pads the input data with zeros, so that the convolution operation does not shrink the spatial dimensions\n",
        "  # Input_shape specifies the shape of the input data expected by this layer\n",
        "  model.add(Conv2D(16, (3, 3), activation='relu', padding=\"same\", input_shape=(32, 32, 1)))\n",
        "\n",
        "  # Add a LeakyRelu layer with the slope equal to 0.1\n",
        "  # LeakyReLU introduces a small slope for negative input values, which ensures neurons remain active during transformation\n",
        "  model.add(LeakyReLU(0.1))\n",
        "\n",
        "  # Second Convolutional layer with 32 filters and the kernel size of 3x3 with 'same' padding\n",
        "  model.add(Conv2D(32, (3, 3), activation='relu', padding=\"same\"))\n",
        "\n",
        "  # Add a LeakyRelu layer with the slope equal to 0.1\n",
        "  model.add(LeakyReLU(0.1))\n",
        "\n",
        "  # A max-pooling layer with a pool size of 2x2 (this is the pooling window)\n",
        "  # This layer reduces the spatial dimensions of the input data. This layer effectively downsamples the feature maps\n",
        "  # This layer reduces the number of parameters and computation in the model while keeping the most important information in the feature maps\n",
        "  # This layer introduces a degree of translational invariance, which makes the model more robut to small translations in the input data\n",
        "  model.add(MaxPooling2D((2, 2), padding = 'same'))\n",
        "\n",
        "  # Flattening the output of the conv layer after max pooling to make it ready for creating dense connections\n",
        "  # This layer is used to transition between convolutional and fully connected layers\n",
        "  # This layer reshapes the multidimensional feature maps into a one-dimensional vector\n",
        "  model.add(Flatten())\n",
        "\n",
        "  # Add a dense layer with 32 nodes\n",
        "  model.add(Dense(32))\n",
        "\n",
        "  # Add a LeakyRelu layer with the slope equal to 0.1\n",
        "  model.add(LeakyReLU(0.1))\n",
        "\n",
        "  # Add the final output layer with nodes equal to the number of classes, i.e., 10 and 'softmax' as the activation function\n",
        "  model.add(Dense(10, activation='softmax'))\n",
        "\n",
        "  # Using Adam Optimizer\n",
        "  opt = Adam(learning_rate=0.001)\n",
        "\n",
        "  # Compile model\n",
        "  model.compile(optimizer=opt, loss='categorical_crossentropy', metrics=['accuracy'])\n",
        "\n",
        "\n",
        "  return model\n",
        "\n"
      ]
    },
    {
      "cell_type": "code",
      "execution_count": 313,
      "metadata": {
        "colab": {
          "base_uri": "https://localhost:8080/"
        },
        "id": "W2nydzECjo5X",
        "outputId": "00a4a4b4-737e-4684-f454-b383e8b1906e"
      },
      "outputs": [
        {
          "name": "stdout",
          "output_type": "stream",
          "text": [
            "Model: \"sequential\"\n",
            "_________________________________________________________________\n",
            " Layer (type)                Output Shape              Param #   \n",
            "=================================================================\n",
            " conv2d (Conv2D)             (None, 32, 32, 16)        160       \n",
            "                                                                 \n",
            " leaky_re_lu (LeakyReLU)     (None, 32, 32, 16)        0         \n",
            "                                                                 \n",
            " conv2d_1 (Conv2D)           (None, 32, 32, 32)        4640      \n",
            "                                                                 \n",
            " leaky_re_lu_1 (LeakyReLU)   (None, 32, 32, 32)        0         \n",
            "                                                                 \n",
            " max_pooling2d (MaxPooling2D  (None, 16, 16, 32)       0         \n",
            " )                                                               \n",
            "                                                                 \n",
            " flatten (Flatten)           (None, 8192)              0         \n",
            "                                                                 \n",
            " dense (Dense)               (None, 32)                262176    \n",
            "                                                                 \n",
            " leaky_re_lu_2 (LeakyReLU)   (None, 32)                0         \n",
            "                                                                 \n",
            " dense_1 (Dense)             (None, 10)                330       \n",
            "                                                                 \n",
            "=================================================================\n",
            "Total params: 267,306\n",
            "Trainable params: 267,306\n",
            "Non-trainable params: 0\n",
            "_________________________________________________________________\n"
          ]
        }
      ],
      "source": [
        "# Call the nn_model_1 function and store the model in a new variable\n",
        "cnn_model = cnn_model_1()\n",
        "\n",
        "# Generating the summary of the model\n",
        "cnn_model.summary()\n",
        "\n"
      ]
    },
    {
      "cell_type": "code",
      "execution_count": 314,
      "metadata": {
        "colab": {
          "base_uri": "https://localhost:8080/"
        },
        "id": "76qiwnZ2jpO4",
        "outputId": "6cc60e43-92f9-4f37-9604-5e762a0715d0"
      },
      "outputs": [
        {
          "name": "stdout",
          "output_type": "stream",
          "text": [
            "Epoch 1/20\n",
            "1050/1050 [==============================] - 7s 5ms/step - loss: 1.1102 - accuracy: 0.6425 - val_loss: 0.6850 - val_accuracy: 0.7990\n",
            "Epoch 2/20\n",
            "1050/1050 [==============================] - 7s 6ms/step - loss: 0.5940 - accuracy: 0.8278 - val_loss: 0.5724 - val_accuracy: 0.8362\n",
            "Epoch 3/20\n",
            "1050/1050 [==============================] - 5s 4ms/step - loss: 0.5129 - accuracy: 0.8476 - val_loss: 0.5668 - val_accuracy: 0.8381\n",
            "Epoch 4/20\n",
            "1050/1050 [==============================] - 6s 5ms/step - loss: 0.4505 - accuracy: 0.8657 - val_loss: 0.4894 - val_accuracy: 0.8606\n",
            "Epoch 5/20\n",
            "1050/1050 [==============================] - 5s 5ms/step - loss: 0.4009 - accuracy: 0.8775 - val_loss: 0.4925 - val_accuracy: 0.8567\n",
            "Epoch 6/20\n",
            "1050/1050 [==============================] - 5s 4ms/step - loss: 0.3583 - accuracy: 0.8912 - val_loss: 0.4953 - val_accuracy: 0.8538\n",
            "Epoch 7/20\n",
            "1050/1050 [==============================] - 6s 5ms/step - loss: 0.3204 - accuracy: 0.9015 - val_loss: 0.4775 - val_accuracy: 0.8670\n",
            "Epoch 8/20\n",
            "1050/1050 [==============================] - 5s 4ms/step - loss: 0.2875 - accuracy: 0.9103 - val_loss: 0.5203 - val_accuracy: 0.8513\n",
            "Epoch 9/20\n",
            "1050/1050 [==============================] - 5s 4ms/step - loss: 0.2554 - accuracy: 0.9220 - val_loss: 0.4875 - val_accuracy: 0.8655\n",
            "Epoch 10/20\n",
            "1050/1050 [==============================] - 6s 6ms/step - loss: 0.2330 - accuracy: 0.9288 - val_loss: 0.5020 - val_accuracy: 0.8705\n",
            "Epoch 11/20\n",
            "1050/1050 [==============================] - 5s 4ms/step - loss: 0.2104 - accuracy: 0.9359 - val_loss: 0.5278 - val_accuracy: 0.8698\n",
            "Epoch 12/20\n",
            "1050/1050 [==============================] - 5s 5ms/step - loss: 0.1872 - accuracy: 0.9423 - val_loss: 0.5636 - val_accuracy: 0.8664\n",
            "Epoch 13/20\n",
            "1050/1050 [==============================] - 5s 5ms/step - loss: 0.1667 - accuracy: 0.9483 - val_loss: 0.6095 - val_accuracy: 0.8640\n",
            "Epoch 14/20\n",
            "1050/1050 [==============================] - 5s 4ms/step - loss: 0.1488 - accuracy: 0.9535 - val_loss: 0.6649 - val_accuracy: 0.8576\n",
            "Epoch 15/20\n",
            "1050/1050 [==============================] - 6s 5ms/step - loss: 0.1363 - accuracy: 0.9560 - val_loss: 0.6402 - val_accuracy: 0.8600\n",
            "Epoch 16/20\n",
            "1050/1050 [==============================] - 5s 4ms/step - loss: 0.1241 - accuracy: 0.9606 - val_loss: 0.6714 - val_accuracy: 0.8562\n",
            "Epoch 17/20\n",
            "1050/1050 [==============================] - 5s 4ms/step - loss: 0.1089 - accuracy: 0.9665 - val_loss: 0.7231 - val_accuracy: 0.8594\n",
            "Epoch 18/20\n",
            "1050/1050 [==============================] - 6s 5ms/step - loss: 0.1021 - accuracy: 0.9675 - val_loss: 0.7349 - val_accuracy: 0.8614\n",
            "Epoch 19/20\n",
            "1050/1050 [==============================] - 5s 4ms/step - loss: 0.0871 - accuracy: 0.9733 - val_loss: 0.7806 - val_accuracy: 0.8579\n",
            "Epoch 20/20\n",
            "1050/1050 [==============================] - 5s 5ms/step - loss: 0.0802 - accuracy: 0.9744 - val_loss: 0.8778 - val_accuracy: 0.8507\n"
          ]
        }
      ],
      "source": [
        "# Fit the model on the training data with a validation split of 0.2, batch size = 32, verbose = 1, and epochs = 20. Store the model building history to use later for visualization.\n",
        "\n",
        "history_cnn1 = cnn_model.fit(\n",
        "            X_train_normalized, y_train_encoded,\n",
        "            epochs=20,\n",
        "            validation_split=0.2,\n",
        "            shuffle=True,\n",
        "            batch_size=32,\n",
        "            verbose=1\n",
        ")\n"
      ]
    },
    {
      "cell_type": "markdown",
      "metadata": {
        "id": "JPzfIf9kKDNw"
      },
      "source": [
        "### **Plot the Training and Validation Accuracies and Write your observations.**"
      ]
    },
    {
      "cell_type": "code",
      "execution_count": 315,
      "metadata": {
        "colab": {
          "base_uri": "https://localhost:8080/",
          "height": 472
        },
        "id": "uS4WioRbnTqM",
        "outputId": "b945c35f-711a-4b61-d272-6c216444dc6e"
      },
      "outputs": [
        {
          "data": {
            "image/png": "[encoded data removed]",
            "text/plain": [
              "<Figure size 640x480 with 1 Axes>"
            ]
          },
          "metadata": {},
          "output_type": "display_data"
        }
      ],
      "source": [
        "# Plot accuracies\n",
        "plt.plot(history_cnn1.history['accuracy'])\n",
        "plt.plot(history_cnn1.history['val_accuracy'])\n",
        "plt.title('Model Accuracy')\n",
        "plt.ylabel('Accuracy')\n",
        "plt.xlabel('Epoch')\n",
        "plt.legend(['Train', 'Validation'], loc='upper left')\n",
        "plt.show()"
      ]
    },
    {
      "cell_type": "markdown",
      "metadata": {
        "id": "iy62uFTQKDFA"
      },
      "source": [
        "In the above plot, I see the model performs better in the training data, with an accuracy of approximately 95%, than the validation data, which has an accuracy of approximately 85%"
      ]
    },
    {
      "cell_type": "code",
      "execution_count": 316,
      "metadata": {
        "colab": {
          "base_uri": "https://localhost:8080/"
        },
        "id": "eoxRW_j_l35W",
        "outputId": "30665b35-dc74-495a-e266-9638536dc476"
      },
      "outputs": [
        {
          "name": "stdout",
          "output_type": "stream",
          "text": [
            "563/563 - 2s - loss: 0.8608 - accuracy: 0.8512 - 2s/epoch - 3ms/step\n"
          ]
        }
      ],
      "source": [
        "# Evaluating the model on the test data\n",
        "accuracy_cnn1 = cnn_model.evaluate(X_test_normalized, y_test_encoded, verbose=2)"
      ]
    },
    {
      "cell_type": "markdown",
      "metadata": {
        "id": "EsPNY5hpSUD3"
      },
      "source": [
        "In the above output, I see that I see in the above output that it took 1 second to process one epoch. After processing all batches, we got a loss score of 0.86. The model correctly predicted 85.12% of the training samples. It took approximately 2 seconds on average to process one epoch. It took 3 milliseconds to process one mini-batch."
      ]
    },
    {
      "cell_type": "code",
      "execution_count": 317,
      "metadata": {
        "colab": {
          "base_uri": "https://localhost:8080/"
        },
        "id": "CWuDrw2wl53E",
        "outputId": "d96cf21d-65a3-4135-b412-68bfb322c5d9"
      },
      "outputs": [
        {
          "name": "stdout",
          "output_type": "stream",
          "text": [
            "563/563 [==============================] - 1s 2ms/step\n"
          ]
        }
      ],
      "source": [
        "# Generating the Predictions using the test data\n",
        "y_pred_cnn1=cnn_model.predict(X_test_normalized)"
      ]
    },
    {
      "cell_type": "code",
      "execution_count": 318,
      "metadata": {
        "colab": {
          "base_uri": "https://localhost:8080/",
          "height": 676
        },
        "id": "07oUCr1kAjQH",
        "outputId": "4f4e41ae-6e9b-4353-db84-fccbc5a31143"
      },
      "outputs": [
        {
          "data": {
            "image/png": "[encoded data removed]",
            "text/plain": [
              "<Figure size 1000x800 with 2 Axes>"
            ]
          },
          "metadata": {},
          "output_type": "display_data"
        }
      ],
      "source": [
        "# Obtaining the categorical values from y_test_encoded and y_pred\n",
        "y_pred_cnn1_arg=np.argmax(y_pred_cnn1,axis=1)\n",
        "y_test_cnn1_arg=np.argmax(y_test_encoded,axis=1)\n",
        "\n",
        "# Plotting the Confusion Matrix using confusion matrix() function which is also predefined tensorflow module\n",
        "confusion_matrix = tf.math.confusion_matrix(y_test_cnn1_arg,y_pred_cnn1_arg)\n",
        "f, ax = plt.subplots(figsize=(10, 8))\n",
        "sns.heatmap(\n",
        "    confusion_matrix,\n",
        "    annot=True,\n",
        "    linewidths=.4,\n",
        "    fmt=\"d\",\n",
        "    square=True,\n",
        "    ax=ax\n",
        ")\n",
        "plt.show()"
      ]
    },
    {
      "cell_type": "markdown",
      "metadata": {
        "id": "P6zTLyp9AjQH"
      },
      "source": [
        "**Observations:**\n",
        "In the above plot, I see that number eight was correctly identified 1446 times. I also see that there were 45 times when the number 3 was identified as an 8."
      ]
    },
    {
      "cell_type": "markdown",
      "metadata": {
        "id": "Ukvtg2eMAjQH"
      },
      "source": [
        "Let's build another model and see if we can get a better model with generalized performance.\n",
        "\n",
        "First, we need to clear the previous model's history from the Keras backend. Also, let's fix the seed again after clearing the backend."
      ]
    },
    {
      "cell_type": "code",
      "execution_count": 319,
      "metadata": {
        "id": "HbKi93HTolGW"
      },
      "outputs": [],
      "source": [
        "# Clearing backend\n",
        "from tensorflow.keras import backend\n",
        "backend.clear_session()"
      ]
    },
    {
      "cell_type": "markdown",
      "metadata": {
        "id": "Ep19Jd8HAjQH"
      },
      "source": [
        "### **Second Model Architecture**\n",
        "\n",
        "- Write a function that returns a sequential model with the following architecture:\n",
        " - First Convolutional layer with **16 filters and the kernel size of 3x3**. Use the **'same' padding** and provide the **input shape = (32, 32, 1)**\n",
        " - Add a **LeakyRelu layer** with the **slope equal to 0.1**\n",
        " - Second Convolutional layer with **32 filters and the kernel size of 3x3 with 'same' padding**\n",
        " - Add **LeakyRelu** with the **slope equal to 0.1**\n",
        " - Add a **max-pooling layer** with a **pool size of 2x2**\n",
        " - Add a **BatchNormalization layer**\n",
        " - Third Convolutional layer with **32 filters and the kernel size of 3x3 with 'same' padding**\n",
        " - Add a **LeakyRelu layer with the slope equal to 0.1**\n",
        " - Fourth Convolutional layer **64 filters and the kernel size of 3x3 with 'same' padding**\n",
        " - Add a **LeakyRelu layer with the slope equal to 0.1**\n",
        " - Add a **max-pooling layer** with a **pool size of 2x2**\n",
        " - Add a **BatchNormalization layer**\n",
        " - **Flatten** the output from the previous layer\n",
        " - Add a **dense layer with 32 nodes**\n",
        " - Add a **LeakyRelu layer with the slope equal to 0.1**\n",
        " - Add a **dropout layer with the rate equal to 0.5**\n",
        " - Add the final **output layer with nodes equal to the number of classes, i.e., 10** and **'softmax' as the activation function**\n",
        " - Compile the model with the **categorical_crossentropy loss, adam optimizers (learning_rate = 0.001), and metric equal to 'accuracy'**. Do not fit the model here, just return the compiled model.\n",
        "- Call the function cnn_model_2 and store the model in a new variable.\n",
        "- Print the summary of the model.\n",
        "- Fit the model on the train data with a **validation split of 0.2, batch size = 128, verbose = 1, and epochs = 30**. Store the model building history to use later for visualization."
      ]
    },
    {
      "cell_type": "markdown",
      "metadata": {
        "id": "y5IBLS1eKDNy"
      },
      "source": [
        "### **Build and train the second CNN model as per the above mentioned architecture.**"
      ]
    },
    {
      "cell_type": "code",
      "execution_count": 320,
      "metadata": {
        "id": "wk9sl2UEAjQH"
      },
      "outputs": [],
      "source": [
        "def cnn_model_2():\n",
        "  # Intializing a sequential model\n",
        "  model = Sequential()\n",
        "\n",
        "  #First Convolutional layer with 16 filters and the kernel size of 3x3. Use the 'same' padding and provide the input shape = (32, 32, 1)\n",
        "  model.add(Conv2D(16, (3, 3), activation='relu', padding=\"same\", input_shape=(32, 32, 1)))\n",
        "\n",
        "  # Add a LeakyRelu layer with the slope equal to 0.1\n",
        "  model.add(LeakyReLU(0.1))\n",
        "\n",
        "  # Second Convolutional layer with 32 filters and the kernel size of 3x3 with 'same' padding\n",
        "  model.add(Conv2D(32, (3, 3), activation='relu', padding=\"same\"))\n",
        "\n",
        "  # Add a LeakyRelu layer with the slope equal to 0.1\n",
        "  model.add(LeakyReLU(0.1))\n",
        "\n",
        "  # Add a max-pooling layer with a pool size of 2x2\n",
        "  model.add(MaxPooling2D(2, 2))\n",
        "\n",
        "  # Batch Normalization layer\n",
        "  model.add(BatchNormalization())\n",
        "\n",
        "  # Third Convolutional layer with 32 filters and the kernel size of 3x3 with 'same' padding\n",
        "  model.add(Conv2D(32, (3, 3), activation='relu', padding=\"same\"))\n",
        "\n",
        "  # Add a LeakyRelu layer with the slope equal to 0.1\n",
        "  model.add(LeakyReLU(0.1))\n",
        "\n",
        "  # Fourth Convolutional layer 64 filters and the kernel size of 3x3 with 'same' padding\n",
        "  model.add(Conv2D(64, (3, 3), activation='relu', padding=\"same\"))\n",
        "\n",
        "  # Add a LeakyRelu layer with the slope equal to 0.1\n",
        "  model.add(LeakyReLU(0.1))\n",
        "\n",
        "  # Add a max-pooling layer with a pool size of 2x2\n",
        "  model.add(MaxPooling2D(2, 2))\n",
        "\n",
        "  # Add a BatchNormalization layer\n",
        "  model.add(BatchNormalization())\n",
        "\n",
        "  # Flatten the output from the previous layer\n",
        "  model.add(Flatten())\n",
        "\n",
        "  # Add a dense layer with 32 nodes\n",
        "  model.add(Dense(32))\n",
        "\n",
        "  # Add a LeakyRelu layer with the slope equal to 0.1\n",
        "  model.add(LeakyReLU(0.1))\n",
        "\n",
        "  # Add a dropout layer with the rate equal to 0.5\n",
        "  model.add(Dropout(0.5))\n",
        "\n",
        "  # Add the final output layer with nodes equal to the number of classes, i.e., 10 and 'softmax' as the activation function\n",
        "  model.add(Dense(10, activation='softmax'))\n",
        "\n",
        "  # Using Adam Optimizer\n",
        "  opt = Adam(learning_rate=0.001)\n",
        "\n",
        "  # Compile model\n",
        "  model.compile(optimizer=opt, loss='categorical_crossentropy', metrics=['accuracy'])\n",
        "\n",
        "\n",
        "  return model\n"
      ]
    },
    {
      "cell_type": "code",
      "execution_count": 321,
      "metadata": {
        "colab": {
          "base_uri": "https://localhost:8080/"
        },
        "id": "j2rLrZ3vmcxt",
        "outputId": "4dc16bc1-d18d-4f70-8736-0aac5fd91d5a"
      },
      "outputs": [
        {
          "name": "stdout",
          "output_type": "stream",
          "text": [
            "Model: \"sequential\"\n",
            "_________________________________________________________________\n",
            " Layer (type)                Output Shape              Param #   \n",
            "=================================================================\n",
            " conv2d (Conv2D)             (None, 32, 32, 16)        160       \n",
            "                                                                 \n",
            " leaky_re_lu (LeakyReLU)     (None, 32, 32, 16)        0         \n",
            "                                                                 \n",
            " conv2d_1 (Conv2D)           (None, 32, 32, 32)        4640      \n",
            "                                                                 \n",
            " leaky_re_lu_1 (LeakyReLU)   (None, 32, 32, 32)        0         \n",
            "                                                                 \n",
            " max_pooling2d (MaxPooling2D  (None, 16, 16, 32)       0         \n",
            " )                                                               \n",
            "                                                                 \n",
            " batch_normalization (BatchN  (None, 16, 16, 32)       128       \n",
            " ormalization)                                                   \n",
            "                                                                 \n",
            " conv2d_2 (Conv2D)           (None, 16, 16, 32)        9248      \n",
            "                                                                 \n",
            " leaky_re_lu_2 (LeakyReLU)   (None, 16, 16, 32)        0         \n",
            "                                                                 \n",
            " conv2d_3 (Conv2D)           (None, 16, 16, 64)        18496     \n",
            "                                                                 \n",
            " leaky_re_lu_3 (LeakyReLU)   (None, 16, 16, 64)        0         \n",
            "                                                                 \n",
            " max_pooling2d_1 (MaxPooling  (None, 8, 8, 64)         0         \n",
            " 2D)                                                             \n",
            "                                                                 \n",
            " batch_normalization_1 (Batc  (None, 8, 8, 64)         256       \n",
            " hNormalization)                                                 \n",
            "                                                                 \n",
            " flatten (Flatten)           (None, 4096)              0         \n",
            "                                                                 \n",
            " dense (Dense)               (None, 32)                131104    \n",
            "                                                                 \n",
            " leaky_re_lu_4 (LeakyReLU)   (None, 32)                0         \n",
            "                                                                 \n",
            " dropout (Dropout)           (None, 32)                0         \n",
            "                                                                 \n",
            " dense_1 (Dense)             (None, 10)                330       \n",
            "                                                                 \n",
            "=================================================================\n",
            "Total params: 164,362\n",
            "Trainable params: 164,170\n",
            "Non-trainable params: 192\n",
            "_________________________________________________________________\n"
          ]
        }
      ],
      "source": [
        "# Call the nn_model_1 function and store the model in a new variable\n",
        "cnn_model_2 = cnn_model_2()\n",
        "\n",
        "# Generating the summary of the model\n",
        "cnn_model_2.summary()"
      ]
    },
    {
      "cell_type": "code",
      "execution_count": 322,
      "metadata": {
        "colab": {
          "base_uri": "https://localhost:8080/"
        },
        "id": "mJF3hB8gmieD",
        "outputId": "3c30c2e5-3be8-4901-b63d-c9bc4ef9b7b0"
      },
      "outputs": [
        {
          "name": "stdout",
          "output_type": "stream",
          "text": [
            "Epoch 1/30\n",
            "263/263 [==============================] - 6s 11ms/step - loss: 1.3087 - accuracy: 0.5601 - val_loss: 2.3705 - val_accuracy: 0.1139\n",
            "Epoch 2/30\n",
            "263/263 [==============================] - 3s 11ms/step - loss: 0.6507 - accuracy: 0.8015 - val_loss: 0.6911 - val_accuracy: 0.8146\n",
            "Epoch 3/30\n",
            "263/263 [==============================] - 3s 10ms/step - loss: 0.5193 - accuracy: 0.8413 - val_loss: 0.4519 - val_accuracy: 0.8715\n",
            "Epoch 4/30\n",
            "263/263 [==============================] - 2s 9ms/step - loss: 0.4436 - accuracy: 0.8650 - val_loss: 0.4283 - val_accuracy: 0.8770\n",
            "Epoch 5/30\n",
            "263/263 [==============================] - 3s 10ms/step - loss: 0.3958 - accuracy: 0.8796 - val_loss: 0.4522 - val_accuracy: 0.8636\n",
            "Epoch 6/30\n",
            "263/263 [==============================] - 2s 9ms/step - loss: 0.3653 - accuracy: 0.8888 - val_loss: 0.4322 - val_accuracy: 0.8707\n",
            "Epoch 7/30\n",
            "263/263 [==============================] - 3s 12ms/step - loss: 0.3419 - accuracy: 0.8938 - val_loss: 0.3665 - val_accuracy: 0.8986\n",
            "Epoch 8/30\n",
            "263/263 [==============================] - 3s 10ms/step - loss: 0.3067 - accuracy: 0.9032 - val_loss: 0.3691 - val_accuracy: 0.8958\n",
            "Epoch 9/30\n",
            "263/263 [==============================] - 3s 10ms/step - loss: 0.2869 - accuracy: 0.9096 - val_loss: 0.4317 - val_accuracy: 0.8890\n",
            "Epoch 10/30\n",
            "263/263 [==============================] - 3s 10ms/step - loss: 0.2776 - accuracy: 0.9135 - val_loss: 0.4568 - val_accuracy: 0.8731\n",
            "Epoch 11/30\n",
            "263/263 [==============================] - 3s 10ms/step - loss: 0.2595 - accuracy: 0.9182 - val_loss: 0.3876 - val_accuracy: 0.8996\n",
            "Epoch 12/30\n",
            "263/263 [==============================] - 3s 11ms/step - loss: 0.2443 - accuracy: 0.9226 - val_loss: 0.3752 - val_accuracy: 0.9077\n",
            "Epoch 13/30\n",
            "263/263 [==============================] - 3s 10ms/step - loss: 0.2295 - accuracy: 0.9270 - val_loss: 0.3901 - val_accuracy: 0.9032\n",
            "Epoch 14/30\n",
            "263/263 [==============================] - 3s 10ms/step - loss: 0.2172 - accuracy: 0.9289 - val_loss: 0.3913 - val_accuracy: 0.8983\n",
            "Epoch 15/30\n",
            "263/263 [==============================] - 3s 10ms/step - loss: 0.2117 - accuracy: 0.9310 - val_loss: 0.4259 - val_accuracy: 0.8943\n",
            "Epoch 16/30\n",
            "263/263 [==============================] - 3s 10ms/step - loss: 0.1985 - accuracy: 0.9361 - val_loss: 0.4893 - val_accuracy: 0.8820\n",
            "Epoch 17/30\n",
            "263/263 [==============================] - 3s 11ms/step - loss: 0.2001 - accuracy: 0.9341 - val_loss: 0.4338 - val_accuracy: 0.9029\n",
            "Epoch 18/30\n",
            "263/263 [==============================] - 3s 11ms/step - loss: 0.1893 - accuracy: 0.9379 - val_loss: 0.3868 - val_accuracy: 0.9029\n",
            "Epoch 19/30\n",
            "263/263 [==============================] - 3s 10ms/step - loss: 0.1755 - accuracy: 0.9425 - val_loss: 0.4731 - val_accuracy: 0.8881\n",
            "Epoch 20/30\n",
            "263/263 [==============================] - 2s 9ms/step - loss: 0.1712 - accuracy: 0.9436 - val_loss: 0.4630 - val_accuracy: 0.8874\n",
            "Epoch 21/30\n",
            "263/263 [==============================] - 3s 10ms/step - loss: 0.1692 - accuracy: 0.9463 - val_loss: 0.4548 - val_accuracy: 0.9067\n",
            "Epoch 22/30\n",
            "263/263 [==============================] - 3s 10ms/step - loss: 0.1618 - accuracy: 0.9477 - val_loss: 0.4633 - val_accuracy: 0.9075\n",
            "Epoch 23/30\n",
            "263/263 [==============================] - 3s 11ms/step - loss: 0.1513 - accuracy: 0.9490 - val_loss: 0.5057 - val_accuracy: 0.9020\n",
            "Epoch 24/30\n",
            "263/263 [==============================] - 3s 10ms/step - loss: 0.1511 - accuracy: 0.9500 - val_loss: 0.4861 - val_accuracy: 0.9006\n",
            "Epoch 25/30\n",
            "263/263 [==============================] - 3s 10ms/step - loss: 0.1454 - accuracy: 0.9511 - val_loss: 0.4582 - val_accuracy: 0.9085\n",
            "Epoch 26/30\n",
            "263/263 [==============================] - 3s 10ms/step - loss: 0.1376 - accuracy: 0.9547 - val_loss: 0.5076 - val_accuracy: 0.8926\n",
            "Epoch 27/30\n",
            "263/263 [==============================] - 3s 10ms/step - loss: 0.1380 - accuracy: 0.9537 - val_loss: 0.4484 - val_accuracy: 0.9086\n",
            "Epoch 28/30\n",
            "263/263 [==============================] - 3s 11ms/step - loss: 0.1329 - accuracy: 0.9547 - val_loss: 0.5174 - val_accuracy: 0.9052\n",
            "Epoch 29/30\n",
            "263/263 [==============================] - 3s 10ms/step - loss: 0.1276 - accuracy: 0.9568 - val_loss: 0.5742 - val_accuracy: 0.8990\n",
            "Epoch 30/30\n",
            "263/263 [==============================] - 3s 10ms/step - loss: 0.1283 - accuracy: 0.9571 - val_loss: 0.5085 - val_accuracy: 0.9021\n"
          ]
        }
      ],
      "source": [
        "# Fit the model on the train data with a validation split of 0.2, batch size = 128, verbose = 1, and epochs = 30. Store the model building history to use later for visualization.\n",
        "history_cnn2 = cnn_model_2.fit(\n",
        "            X_train_normalized, y_train_encoded,\n",
        "            epochs=30,\n",
        "            validation_split=0.2,\n",
        "            shuffle=True,\n",
        "            batch_size=128,\n",
        "            verbose=1\n",
        ")"
      ]
    },
    {
      "cell_type": "markdown",
      "metadata": {
        "id": "PyhUtMy3KDN1"
      },
      "source": [
        "### **Plot the Training and Validation accuracies and write your observations.**"
      ]
    },
    {
      "cell_type": "code",
      "execution_count": 323,
      "metadata": {
        "colab": {
          "base_uri": "https://localhost:8080/",
          "height": 472
        },
        "id": "YVQu7uWiAjQH",
        "outputId": "49622de9-8c66-4811-a17a-3231090bd666"
      },
      "outputs": [
        {
          "data": {
            "image/png": "[encoded data removed]",
            "text/plain": [
              "<Figure size 640x480 with 1 Axes>"
            ]
          },
          "metadata": {},
          "output_type": "display_data"
        }
      ],
      "source": [
        "# Plot accuracies\n",
        "plt.plot(history_cnn2.history['accuracy'])\n",
        "plt.plot(history_cnn2.history['val_accuracy'])\n",
        "plt.title('Model Accuracy')\n",
        "plt.ylabel('Accuracy')\n",
        "plt.xlabel('Epoch')\n",
        "plt.legend(['Train', 'Validation'], loc='upper left')\n",
        "plt.show()"
      ]
    },
    {
      "cell_type": "markdown",
      "metadata": {
        "id": "Qrrt0Ac3AjQH"
      },
      "source": [
        "**Observations:**\n",
        "In the above plot, I see that the model performs relatively well on the train and validation data with an accuracy of approximately 90%"
      ]
    },
    {
      "cell_type": "markdown",
      "metadata": {
        "id": "kja4SnOdAjQI"
      },
      "source": [
        "## **Predictions on the test data**\n",
        "\n",
        "- Make predictions on the test set using the second model.\n",
        "- Print the obtained results using the classification report and the confusion matrix.\n",
        "- Final observations on the obtained results."
      ]
    },
    {
      "cell_type": "markdown",
      "metadata": {
        "id": "eHCRwRbgKDN2"
      },
      "source": [
        "### **Make predictions on the test data using the second model.**"
      ]
    },
    {
      "cell_type": "code",
      "execution_count": 324,
      "metadata": {
        "colab": {
          "base_uri": "https://localhost:8080/"
        },
        "id": "f1d-VvaLAjQI",
        "outputId": "a92938d7-209c-425f-8753-e89019ca3d83"
      },
      "outputs": [
        {
          "name": "stdout",
          "output_type": "stream",
          "text": [
            "563/563 - 1s - loss: 0.4884 - accuracy: 0.9052 - 1s/epoch - 2ms/step\n"
          ]
        }
      ],
      "source": [
        "# Evaluating the model on the test data\n",
        "accuracy_cnn2 = cnn_model_2.evaluate(X_test_normalized, y_test_encoded, verbose=2)"
      ]
    },
    {
      "cell_type": "markdown",
      "metadata": {
        "id": "FKVfpCldR-XL"
      },
      "source": [
        "In the above output, I see that I see in the above output that it took 1 second to process one epoch. After processing all batches, we got a loss score of 0.49. The model correctly predicted 90.52% of the training samples. It took approximately 1 seconds on average to process one epoch. It took 2 milliseconds to process one mini-batch."
      ]
    },
    {
      "cell_type": "code",
      "execution_count": 325,
      "metadata": {
        "colab": {
          "base_uri": "https://localhost:8080/"
        },
        "id": "vyU3gJl-mtiM",
        "outputId": "6f464161-fe95-4ec3-ee2f-20c833e3e6b3"
      },
      "outputs": [
        {
          "name": "stdout",
          "output_type": "stream",
          "text": [
            "563/563 [==============================] - 1s 2ms/step\n"
          ]
        }
      ],
      "source": [
        "# Generating the Predictions using the test data\n",
        "y_pred_cnn2=cnn_model_2.predict(X_test_normalized)"
      ]
    },
    {
      "cell_type": "markdown",
      "metadata": {
        "id": "DrV1tOG0AjQI"
      },
      "source": [
        "**Note:** Earlier, we noticed that each entry of the target variable is a one-hot encoded vector, but to print the classification report and confusion matrix, we must convert each entry of y_test to a single label."
      ]
    },
    {
      "cell_type": "code",
      "execution_count": 326,
      "metadata": {
        "id": "KEly6gRqRQdZ"
      },
      "outputs": [],
      "source": [
        "# Obtaining the categorical values from y_test_encoded and y_pred\n",
        "y_pred_cnn2_arg=np.argmax(y_pred_cnn2,axis=1)\n",
        "y_test_cnn2_arg=np.argmax(y_test_encoded,axis=1)"
      ]
    },
    {
      "cell_type": "code",
      "execution_count": 327,
      "metadata": {
        "colab": {
          "base_uri": "https://localhost:8080/",
          "height": 676
        },
        "id": "dUSHU9W0AjQI",
        "outputId": "2a40ca10-edb0-49fc-89f0-0180852f9f9c"
      },
      "outputs": [
        {
          "data": {
            "image/png": "[encoded data removed]",
            "text/plain": [
              "<Figure size 1000x800 with 2 Axes>"
            ]
          },
          "metadata": {},
          "output_type": "display_data"
        }
      ],
      "source": [
        "# Plotting the Confusion Matrix using confusion matrix() function which is also predefined tensorflow module\n",
        "confusion_matrix = tf.math.confusion_matrix(y_test_cnn2_arg,y_pred_cnn2_arg)\n",
        "f, ax = plt.subplots(figsize=(10, 8))\n",
        "sns.heatmap(\n",
        "    confusion_matrix,\n",
        "    annot=True,\n",
        "    linewidths=.4,\n",
        "    fmt=\"d\",\n",
        "    square=True,\n",
        "    ax=ax\n",
        ")\n",
        "plt.show()"
      ]
    },
    {
      "cell_type": "markdown",
      "metadata": {
        "id": "D4SCY9SnS0lE"
      },
      "source": [
        "In the above plot, I see that number 8 was correctly identified 1584 times. On the other hand, I see there were 81 times when number 3 was mistaken for number 8"
      ]
    },
    {
      "cell_type": "markdown",
      "metadata": {
        "id": "aVCa-ysWKDN3"
      },
      "source": [
        "### **Write your final observations on the performance of the model on the test data.**"
      ]
    },
    {
      "cell_type": "markdown",
      "metadata": {
        "id": "TNN9v713AjQJ"
      },
      "source": [
        "**Final Observations:**\n",
        "\n",
        "\n",
        "The total number of trainable parameters in the CNN model 1 were: 267,306\n",
        "\n",
        "The total number of trainable parameters in the CNN model 2 were: 164,170\n",
        "\n",
        "The first model is less complex than the second model because it has a lower number of trainable parameters.\n",
        "\n",
        "The second cnn model has two dense layers more than the first cnn model. The second model has two additional batch normalization layers, two LeakyReLU layers, one max-pooling layer, and a dropout layer. The second model has more epochs than the first model.\n",
        "\n",
        "The second cnn model has a greater accuracy, 90.52%, than the first model, 85.12%. The second cnn model has a smaller loss score, 0.49, than the first model, 0.86. The second model took more time, 2 seconds, to process one epoch than the first model, 1 second.\n",
        "\n",
        "Considering that the first model performs better in the training data than in the validation data, I can conclude that the the first model is overfitting. Adding regularization and dropout layers, like the second model does, would help address this.\n",
        "\n",
        "Among these two models, I would choose the CNN model 2 because it has a higher accuracy and smaller loss score than the first model. It is also built to avoid overfitting because it has regulatization and dropout layers."
      ]
    },
    {
      "cell_type": "markdown",
      "metadata": {
        "id": "cP303OYH_l2y"
      },
      "source": [
        "Additionally, CNNs are more suitable for image recognition than ANNs because CNNs are specifically designed for processing grid-like data, like images. CNNs learn hierarchical patterns and features from input data, regardless of their location. CNNs also don't need extensive manual feature engineering, which is why I would ultimately recommend using the CNN model 2."
      ]
    }
  ],
  "metadata": {
    "accelerator": "GPU",
    "colab": {
      "gpuType": "T4",
      "provenance": []
    },
    "kernelspec": {
      "display_name": "Python 3",
      "name": "python3"
    },
    "language_info": {
      "codemirror_mode": {
        "name": "ipython",
        "version": 3
      },
      "file_extension": ".py",
      "mimetype": "text/x-python",
      "name": "python",
      "nbconvert_exporter": "python",
      "pygments_lexer": "ipython3",
      "version": "3.9.7"
    }
  },
  "nbformat": 4,
  "nbformat_minor": 0
}
